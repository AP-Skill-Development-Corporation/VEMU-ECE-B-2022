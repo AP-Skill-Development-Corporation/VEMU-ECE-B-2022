{
 "cells": [
  {
   "cell_type": "code",
   "execution_count": 1,
   "id": "af854437",
   "metadata": {},
   "outputs": [
    {
     "name": "stdout",
     "output_type": "stream",
     "text": [
      "5\n",
      "5 x 01 = 05\n",
      "5 x 02 = 10\n",
      "5 x 03 = 15\n",
      "5 x 04 = 20\n",
      "5 x 05 = 25\n",
      "5 x 06 = 30\n",
      "5 x 07 = 35\n",
      "5 x 08 = 40\n",
      "5 x 09 = 45\n",
      "5 x 10 = 50\n"
     ]
    }
   ],
   "source": [
    "n = int(input())\n",
    "for i in range(1,11):\n",
    "    print(\"{} x {:02} = {:02}\".format(n,i,n*i))"
   ]
  },
  {
   "cell_type": "code",
   "execution_count": 2,
   "id": "f6fefc6e",
   "metadata": {},
   "outputs": [
    {
     "name": "stdout",
     "output_type": "stream",
     "text": [
      "18\n",
      "22\n",
      "180422\n",
      "190921\n",
      "201620\n",
      "212519\n",
      "223618\n"
     ]
    }
   ],
   "source": [
    "t = int(input())\n",
    "m = int(input())\n",
    "p = 2\n",
    "for i in range(t,m+1):\n",
    "    print(\"{}{:02}{}\".format(i,p*p,m-i+t))\n",
    "    p+=1"
   ]
  },
  {
   "cell_type": "code",
   "execution_count": 3,
   "id": "7870dfaa",
   "metadata": {},
   "outputs": [
    {
     "name": "stdout",
     "output_type": "stream",
     "text": [
      "Enter Starting Range: 10\n",
      "Enter Ending Range: 20\n",
      "Enter Stepping Range: 3\n",
      "10 13 16 19 "
     ]
    }
   ],
   "source": [
    "n = int(input(\"Enter Starting Range: \"))\n",
    "m = int(input(\"Enter Ending Range: \"))\n",
    "p = int(input(\"Enter Stepping Range: \"))\n",
    "for i in range(n,m,p):\n",
    "    print(i,end=\" \")"
   ]
  },
  {
   "cell_type": "code",
   "execution_count": 4,
   "id": "d82d21d8",
   "metadata": {},
   "outputs": [
    {
     "name": "stdout",
     "output_type": "stream",
     "text": [
      "10\n",
      "1 3 5 7 9 "
     ]
    }
   ],
   "source": [
    "m = int(input())\n",
    "for i in range(1,m,2):\n",
    "    print(i,end=\" \")"
   ]
  },
  {
   "cell_type": "markdown",
   "id": "dc01764f",
   "metadata": {},
   "source": [
    "## While:\n",
    "    Syntax:\n",
    "    initialization\n",
    "    while condition:\n",
    "        //stmnts\n",
    "        incr/decr"
   ]
  },
  {
   "cell_type": "code",
   "execution_count": 5,
   "id": "d6753bc4",
   "metadata": {},
   "outputs": [
    {
     "name": "stdout",
     "output_type": "stream",
     "text": [
      "Enter a range: 20\n",
      "1 2 3 4 5 6 7 8 9 10 11 12 13 14 15 16 17 18 19 "
     ]
    }
   ],
   "source": [
    "n = int(input(\"Enter a range: \"))\n",
    "i = 1\n",
    "while n!=i:\n",
    "    print(i,end=\" \")\n",
    "    i +=1"
   ]
  },
  {
   "cell_type": "code",
   "execution_count": 3,
   "id": "80565eff",
   "metadata": {},
   "outputs": [
    {
     "name": "stdout",
     "output_type": "stream",
     "text": [
      "Enter a range: 10\n",
      "1 2 3 4 5 6 7 8 9 10 "
     ]
    }
   ],
   "source": [
    "n = int(input(\"Enter a range: \"))\n",
    "i = 1\n",
    "while n>=i:\n",
    "    print(i,end=\" \")\n",
    "    i +=1"
   ]
  },
  {
   "cell_type": "code",
   "execution_count": 4,
   "id": "6cdb1115",
   "metadata": {},
   "outputs": [
    {
     "name": "stdout",
     "output_type": "stream",
     "text": [
      "Enter a range: 10\n"
     ]
    }
   ],
   "source": [
    "n = int(input(\"Enter a range: \"))\n",
    "i = 1\n",
    "while n==i:\n",
    "    print(i,end=\" \")\n",
    "    i +=1"
   ]
  },
  {
   "cell_type": "code",
   "execution_count": 1,
   "id": "6e5b6694",
   "metadata": {},
   "outputs": [
    {
     "name": "stdout",
     "output_type": "stream",
     "text": [
      "Enter a range: 10\n"
     ]
    }
   ],
   "source": [
    "n = int(input(\"Enter a range: \"))\n",
    "i = 1\n",
    "while True:\n",
    "    print(i,end=\" \")\n",
    "    i +=1"
   ]
  },
  {
   "cell_type": "code",
   "execution_count": 2,
   "id": "ee371c96",
   "metadata": {},
   "outputs": [
    {
     "name": "stdout",
     "output_type": "stream",
     "text": [
      "20\n",
      "20 19 18 17 16 15 14 13 12 11 10 9 8 7 6 5 4 3 2 1 "
     ]
    }
   ],
   "source": [
    "m = int(input())\n",
    "while m!=0:\n",
    "    print(m,end=\" \")\n",
    "    m -=1"
   ]
  },
  {
   "cell_type": "code",
   "execution_count": 5,
   "id": "4b019bae",
   "metadata": {},
   "outputs": [
    {
     "name": "stdout",
     "output_type": "stream",
     "text": [
      "13256\n",
      "Given number is: 13256\n",
      "Reverse of 13256 is: 65231\n"
     ]
    }
   ],
   "source": [
    "n = int(input())\n",
    "r = 0\n",
    "m = n\n",
    "print(\"Given number is: {}\".format(n))\n",
    "while n!=0:\n",
    "    r = r*10+n%10\n",
    "    n = n//10\n",
    "print(\"Reverse of {} is: {}\".format(m,r))"
   ]
  },
  {
   "cell_type": "code",
   "execution_count": 6,
   "id": "844d1e79",
   "metadata": {},
   "outputs": [
    {
     "name": "stdout",
     "output_type": "stream",
     "text": [
      "789546\n",
      "Given number is: 789546\n",
      "Even numbers are:  6 4 8 \n",
      "Sum of Even numbers are: 18\n",
      "Given number 789546 and its length is: 6\n"
     ]
    }
   ],
   "source": [
    "t = int(input())\n",
    "y,c,k = 0,0,t \n",
    "print(\"Given number is: {}\".format(t))\n",
    "print(\"Even numbers are: \",end=\" \")\n",
    "while t!=0:\n",
    "    p = t%10\n",
    "    if p%2==0:\n",
    "        y +=p\n",
    "        print(p,end=\" \")\n",
    "    c +=1\n",
    "    t //=10\n",
    "print(\"\\nSum of Even numbers are: {}\".format(y))\n",
    "print(\"Given number {} and its length is: {}\".format(k,c))"
   ]
  },
  {
   "cell_type": "markdown",
   "id": "cebafb96",
   "metadata": {},
   "source": [
    "## Jumping Statements:\n",
    "    - continue => skips a value from iterations\n",
    "    - break => it exists from the loop\n",
    "    - pass => it works like continue but for future enhancements we can implement it\n",
    "    - return => it returns single or data structures in python "
   ]
  },
  {
   "cell_type": "code",
   "execution_count": 7,
   "id": "0a973028",
   "metadata": {},
   "outputs": [
    {
     "name": "stdout",
     "output_type": "stream",
     "text": [
      "Enter a range: 10\n",
      "Enter a range to exit: 20\n",
      "0 1 2 3 4 5 6 7 8 9 "
     ]
    }
   ],
   "source": [
    "n = int(input(\"Enter a range: \"))\n",
    "p = int(input(\"Enter a range to exit: \"))\n",
    "for i in range(n):\n",
    "    if i == p:\n",
    "        break\n",
    "    else:\n",
    "        print(i,end=\" \")"
   ]
  },
  {
   "cell_type": "code",
   "execution_count": 8,
   "id": "e8d5eb3f",
   "metadata": {},
   "outputs": [
    {
     "name": "stdout",
     "output_type": "stream",
     "text": [
      "Enter a range: 10\n",
      "Enter a number to skip from a loop: 5\n",
      "0 1 2 3 4 6 7 8 9 "
     ]
    }
   ],
   "source": [
    "n = int(input(\"Enter a range: \"))\n",
    "k = int(input(\"Enter a number to skip from a loop: \"))\n",
    "for i in range(n):\n",
    "    if i == k:\n",
    "        continue\n",
    "    else:\n",
    "        print(i,end=\" \")"
   ]
  },
  {
   "cell_type": "code",
   "execution_count": 9,
   "id": "9bbe535e",
   "metadata": {},
   "outputs": [
    {
     "name": "stdout",
     "output_type": "stream",
     "text": [
      "Enter a range: 10\n",
      "Enter a number to skip from a loop: 6\n",
      "0 1 2 3 4 5 7 8 9 "
     ]
    }
   ],
   "source": [
    "n = int(input(\"Enter a range: \"))\n",
    "k = int(input(\"Enter a number to skip from a loop: \"))\n",
    "for i in range(n):\n",
    "    if i == k:\n",
    "        pass\n",
    "    else:\n",
    "        print(i,end=\" \")"
   ]
  },
  {
   "cell_type": "code",
   "execution_count": 10,
   "id": "1202667d",
   "metadata": {},
   "outputs": [
    {
     "name": "stdout",
     "output_type": "stream",
     "text": [
      "Enter a range to print even numbers: 10\n",
      "0 2 4 6 8 "
     ]
    }
   ],
   "source": [
    "t = int(input(\"Enter a range to print even numbers: \"))\n",
    "for i in range(t):\n",
    "    if i%2!=0:\n",
    "        continue\n",
    "    else:\n",
    "        print(i,end=\" \")"
   ]
  },
  {
   "cell_type": "markdown",
   "id": "8a6d8aa0",
   "metadata": {},
   "source": [
    "```\n",
    "Input:\n",
    "    3\n",
    "    12\n",
    "    10\n",
    "    3\n",
    "output:\n",
    "    Sum of values is: 22\n",
    "\n",
    "Input-1:\n",
    "    5\n",
    "    1\n",
    "    4\n",
    "    8\n",
    "    3\n",
    "    0\n",
    "Output-1:\n",
    "    Sum of values is: 12\n",
    "```"
   ]
  },
  {
   "cell_type": "code",
   "execution_count": 11,
   "id": "e407b191",
   "metadata": {},
   "outputs": [
    {
     "name": "stdout",
     "output_type": "stream",
     "text": [
      "6\n",
      "2\n",
      "5\n",
      "6\n",
      "4\n",
      "1\n",
      "2\n",
      "Sum of values is: 14\n"
     ]
    }
   ],
   "source": [
    "e = int(input())\n",
    "d = 0\n",
    "for i in range(e):\n",
    "    y = int(input())\n",
    "    if y%2==0:\n",
    "        d +=y\n",
    "print(\"Sum of values is: {}\".format(d))"
   ]
  },
  {
   "cell_type": "markdown",
   "id": "dad4cfc5",
   "metadata": {},
   "source": [
    "## Inner Loops:\n",
    "    - Loop within a loop\n",
    "    - first loop defines row and second row defines column if it in matrix format"
   ]
  },
  {
   "cell_type": "code",
   "execution_count": 12,
   "id": "cd782513",
   "metadata": {},
   "outputs": [
    {
     "name": "stdout",
     "output_type": "stream",
     "text": [
      "3\n",
      "00 01 02 \n",
      "10 11 12 \n",
      "20 21 22 \n"
     ]
    }
   ],
   "source": [
    "n = int(input())\n",
    "for i in range(n):\n",
    "    for j in range(n):\n",
    "        print(\"{}{}\".format(i,j),end=\" \")\n",
    "    print()"
   ]
  },
  {
   "cell_type": "code",
   "execution_count": 13,
   "id": "ebf9b594",
   "metadata": {},
   "outputs": [
    {
     "name": "stdout",
     "output_type": "stream",
     "text": [
      "4\n",
      "* * * * \n",
      "* * * * \n",
      "* * * * \n",
      "* * * * \n"
     ]
    }
   ],
   "source": [
    "n = int(input())\n",
    "for i in range(n):\n",
    "    for j in range(n):\n",
    "        print(\"*\",end=\" \")\n",
    "    print()"
   ]
  },
  {
   "cell_type": "code",
   "execution_count": 14,
   "id": "19350bb5",
   "metadata": {},
   "outputs": [
    {
     "name": "stdout",
     "output_type": "stream",
     "text": [
      "5\n",
      "* \n",
      "* * \n",
      "* * * \n",
      "* * * * \n",
      "* * * * * \n"
     ]
    }
   ],
   "source": [
    "n = int(input())\n",
    "for i in range(n):\n",
    "    for j in range(i+1):\n",
    "        print(\"*\",end=\" \")\n",
    "    print()"
   ]
  },
  {
   "cell_type": "code",
   "execution_count": 15,
   "id": "78db8309",
   "metadata": {},
   "outputs": [
    {
     "name": "stdout",
     "output_type": "stream",
     "text": [
      "01 02 03 04 05 06 07 \n",
      "08 09 10 11 12 13 14 \n",
      "15 16 17 18 19 20 21 \n",
      "22 23 24 25 26 27 28 \n",
      "29 30 31 \n"
     ]
    }
   ],
   "source": [
    "a = 1\n",
    "for i in range(1,6):\n",
    "    for j in range(1,8):\n",
    "        if a<=31:\n",
    "            print(\"{:02}\".format(a),end=\" \")\n",
    "        else:\n",
    "            break\n",
    "        a+=1\n",
    "    print()"
   ]
  }
 ],
 "metadata": {
  "kernelspec": {
   "display_name": "Python 3",
   "language": "python",
   "name": "python3"
  },
  "language_info": {
   "codemirror_mode": {
    "name": "ipython",
    "version": 3
   },
   "file_extension": ".py",
   "mimetype": "text/x-python",
   "name": "python",
   "nbconvert_exporter": "python",
   "pygments_lexer": "ipython3",
   "version": "3.7.5"
  }
 },
 "nbformat": 4,
 "nbformat_minor": 5
}
