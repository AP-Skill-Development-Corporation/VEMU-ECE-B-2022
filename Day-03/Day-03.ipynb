{
 "cells": [
  {
   "cell_type": "markdown",
   "id": "dfdb8744",
   "metadata": {},
   "source": [
    "## if-else\n",
    "    Syntax:\n",
    "        if condition:\n",
    "            //stmnts\n",
    "        else:\n",
    "            //stmnts"
   ]
  },
  {
   "cell_type": "code",
   "execution_count": 1,
   "id": "f718edd0",
   "metadata": {},
   "outputs": [
    {
     "name": "stdout",
     "output_type": "stream",
     "text": [
      "Enter a number: 13\n",
      "Given number 13 is odd\n"
     ]
    }
   ],
   "source": [
    "n = int(input(\"Enter a number: \"))\n",
    "if n%2==0:\n",
    "    print(\"Given number {} is Even\".format(n))\n",
    "else:\n",
    "    print(\"Given number {} is odd\".format(n))"
   ]
  },
  {
   "cell_type": "markdown",
   "id": "bd1f73f7",
   "metadata": {},
   "source": [
    "```\n",
    "Input:\n",
    "    10\n",
    "    5\n",
    "Output:\n",
    "    Given x value is: 10\n",
    "    Given y value is: 5\n",
    "    value of expression x+2y^2 is: ?\n",
    "```"
   ]
  },
  {
   "cell_type": "code",
   "execution_count": 6,
   "id": "592c905e",
   "metadata": {},
   "outputs": [
    {
     "name": "stdout",
     "output_type": "stream",
     "text": [
      "10\n",
      "5\n",
      "Given x value is: 10\n",
      "Given y value is: 5\n",
      "Value of expression x+2y^2 is: 60\n"
     ]
    }
   ],
   "source": [
    "x = int(input())\n",
    "y = int(input())\n",
    "print(\"Given x value is: {}\".format(x))\n",
    "print(\"Given y value is: {}\".format(y))\n",
    "print(\"Value of expression x+2y^2 is: {}\"\n",
    "      .format(x+2*(y*y)))"
   ]
  },
  {
   "cell_type": "markdown",
   "id": "85acd010",
   "metadata": {},
   "source": [
    "## Nested if\n",
    "    Here else is optional case based on user requirement we can access the else statements\n",
    "    Syntax:\n",
    "        if condition-1:\n",
    "            if condition-2:\n",
    "                //stmnt-1\n",
    "            else:\n",
    "                //stmnt-2\n",
    "        else:\n",
    "            //stmnt-3"
   ]
  },
  {
   "cell_type": "code",
   "execution_count": 9,
   "id": "60a7c4c8",
   "metadata": {},
   "outputs": [
    {
     "name": "stdout",
     "output_type": "stream",
     "text": [
      "Enter Your Name: ramesh\n",
      "Enter Your Year: 2\n",
      "Welcome ramesh Your are belongingto 2nd year\n"
     ]
    }
   ],
   "source": [
    "stname = input(\"Enter Your Name: \")\n",
    "styear = int(input(\"Enter Your Year: \"))\n",
    "if stname == \"ramesh\":\n",
    "    if styear == 2:\n",
    "        print(\"Welcome {} Your are belonging\" \n",
    "              \"to 2nd year\".format(stname))\n",
    "    else:\n",
    "        print(\"{} You are not belonging to 2nd Year\".\n",
    "             format(stname))\n",
    "else:\n",
    "    print(\"{} Your name is invalid\".format(stname))"
   ]
  },
  {
   "cell_type": "code",
   "execution_count": 12,
   "id": "39d73857",
   "metadata": {},
   "outputs": [
    {
     "name": "stdout",
     "output_type": "stream",
     "text": [
      "---------------Create User---------------\n",
      "Create username: yamuna\n",
      "Create Year: 1\n",
      "yamuna Created Successfully\n",
      "-------------Check Your name----------------\n",
      "Enter Your Name: yamuna\n",
      "Enter Your Year: 2\n",
      "yamuna You are not belonging to 1 Year\n"
     ]
    }
   ],
   "source": [
    "print(\"---------------Create User---------------\")\n",
    "n = input(\"Create username: \")\n",
    "y = int(input(\"Create Year: \"))\n",
    "print(\"{} Created Successfully\".format(n))\n",
    "print(\"-------------Check Your name----------------\")\n",
    "stname = input(\"Enter Your Name: \")\n",
    "styear = int(input(\"Enter Your Year: \"))\n",
    "if stname == n:\n",
    "    if styear == y:\n",
    "        print(\"Welcome {} Your are belonging\" \n",
    "              \"to {} year\".format(stname,y))\n",
    "    else:\n",
    "        print(\"{} You are not belonging to {} Year\".\n",
    "             format(stname,y))\n",
    "else:\n",
    "    print(\"{} Your name is invalid\".format(stname))"
   ]
  },
  {
   "cell_type": "code",
   "execution_count": null,
   "id": "51b93142",
   "metadata": {},
   "outputs": [],
   "source": [
    "stname = input(\"Enter Your Name: \")\n",
    "if stname == \"ramesh\":\n",
    "    styear = int(input(\"Enter Your Year: \"))\n",
    "    if styear == 2:\n",
    "        print(\"Welcome {} Your are belonging\" \n",
    "              \"to 2nd year\".format(stname))\n",
    "    else:\n",
    "        print(\"{} You are not belonging to 2nd Year\".\n",
    "             format(stname))\n",
    "else:\n",
    "    print(\"{} Your name is invalid\".format(stname))"
   ]
  },
  {
   "cell_type": "code",
   "execution_count": null,
   "id": "2c870f2e",
   "metadata": {},
   "outputs": [],
   "source": [
    "us = input(\"Enter Username: \")\n",
    "pd = input(\"Enter Password: \")\n",
    "if us == \"ramu@gmail.com\" and pd == \"120\":\n",
    "    print(\"Welcome user {}!!\".format(us))\n",
    "else:\n",
    "    print(\"{} Invalid username or password\".format(us))"
   ]
  },
  {
   "cell_type": "markdown",
   "id": "b5bc803e",
   "metadata": {},
   "source": [
    "## elif ladder\n",
    "    Syntax:\n",
    "        if condition-1:\n",
    "            //stmnt-1\n",
    "        elif condition-2:\n",
    "            //stmnt-2\n",
    "             |      |\n",
    "        elif condition-n:\n",
    "            //stmnt-n\n",
    "        else:\n",
    "            //stmnt(n-1)"
   ]
  },
  {
   "cell_type": "code",
   "execution_count": 16,
   "id": "3a6bb927",
   "metadata": {},
   "outputs": [
    {
     "name": "stdout",
     "output_type": "stream",
     "text": [
      "Enter a number: 701\n",
      "Given number is: 701 Greater than 500\n"
     ]
    }
   ],
   "source": [
    "n = int(input(\"Enter a number: \"))\n",
    "if n<=500 and n>=300:\n",
    "    print(\"Given number is: {} lesser than 500\".format(n))\n",
    "elif n%2==0:\n",
    "    print(\"Given number {} is Even\".format(n))\n",
    "elif n<=200:\n",
    "    print(\"Given number {} is leser than 200\".format(n))\n",
    "else:\n",
    "    print(\"Given number is: {} Greater than 500\".format(n))"
   ]
  },
  {
   "cell_type": "markdown",
   "id": "d3c3ba8c",
   "metadata": {},
   "source": [
    "## Control Statements:\n",
    "    - To control the flow of execution\n",
    "    - for => for known ranges\n",
    "    - while => for known and unknown ranges"
   ]
  },
  {
   "cell_type": "markdown",
   "id": "8be635eb",
   "metadata": {},
   "source": [
    "## for\n",
    "    Syntax:\n",
    "        for iterationvariablename in range(start,stop,step):\n",
    "            //stmnts\n",
    "                        or\n",
    "                        \n",
    "        for iterationvariablename in iterator:\n",
    "            //stmnts"
   ]
  },
  {
   "cell_type": "markdown",
   "id": "1504a1b8",
   "metadata": {},
   "source": [
    "## range method:\n",
    "    - range(stop)\n",
    "        - By default it starts with 0\n",
    "        - It increments with 1\n",
    "        - It ends with stop-1\n",
    "        - ex: range(5)\n",
    "            0 1 2 3 4\n",
    "    - range(start,stop):\n",
    "        - By default it increments with 1\n",
    "        - It exactly starts with start value\n",
    "        - It ends with stop-1 value\n",
    "        - ex: range(10,15)\n",
    "            10 11 12 13 14\n",
    "    - range(start,stop,step)\n",
    "        - It increments/decrements with step value\n",
    "        - It exactly starts with start value\n",
    "        - It ends with stop-1 value\n",
    "        - ex: range(10,20,5)\n",
    "            10 15\n",
    "            "
   ]
  },
  {
   "cell_type": "code",
   "execution_count": 22,
   "id": "dff34fae",
   "metadata": {},
   "outputs": [
    {
     "name": "stdout",
     "output_type": "stream",
     "text": [
      "Enter a range: 5\n",
      "1 2 3 4 5 "
     ]
    }
   ],
   "source": [
    "n = int(input(\"Enter a range: \"))\n",
    "for i in range(n):\n",
    "    print(i+1,end=\" \")"
   ]
  },
  {
   "cell_type": "code",
   "execution_count": 24,
   "id": "52f2d1f8",
   "metadata": {},
   "outputs": [
    {
     "name": "stdout",
     "output_type": "stream",
     "text": [
      "Enter a range: 10\n",
      "10 9 8 7 6 5 4 3 2 1 "
     ]
    }
   ],
   "source": [
    "n = int(input(\"Enter a range: \"))\n",
    "for i in range(n):\n",
    "    print(n-i,end=\" \")"
   ]
  },
  {
   "cell_type": "code",
   "execution_count": 35,
   "id": "75ad588f",
   "metadata": {},
   "outputs": [
    {
     "name": "stdout",
     "output_type": "stream",
     "text": [
      "11\n",
      "204M1A0401\n",
      "204M1A0402\n",
      "204M1A0403\n",
      "204M1A0404\n",
      "204M1A0405\n",
      "204M1A0406\n",
      "204M1A0407\n",
      "204M1A0408\n",
      "204M1A0409\n",
      "204M1A0410\n",
      "204M1A0411\n"
     ]
    }
   ],
   "source": [
    "n = int(input())\n",
    "for k in range(n):\n",
    "    if k <= 8:\n",
    "        print(\"204M1A040{}\".format(k+1))\n",
    "    else:\n",
    "        print(\"204M1A04{}\".format(k+1))"
   ]
  },
  {
   "cell_type": "code",
   "execution_count": 38,
   "id": "03573978",
   "metadata": {},
   "outputs": [
    {
     "name": "stdout",
     "output_type": "stream",
     "text": [
      "11\n",
      "204M1A0401\n",
      "204M1A0402\n",
      "204M1A0403\n",
      "204M1A0404\n",
      "204M1A0405\n",
      "204M1A0406\n",
      "204M1A0407\n",
      "204M1A0408\n",
      "204M1A0409\n",
      "204M1A0410\n",
      "204M1A0411\n"
     ]
    }
   ],
   "source": [
    "m = int(input())\n",
    "for j in range(m):\n",
    "    print(\"204M1A04{:02}\".format(j+1))"
   ]
  },
  {
   "cell_type": "code",
   "execution_count": 40,
   "id": "d6d43372",
   "metadata": {},
   "outputs": [
    {
     "name": "stdout",
     "output_type": "stream",
     "text": [
      "Enter Starting range: 10\n",
      "Enter Stopping range: 20\n",
      "10 11 12 13 14 15 16 17 18 19 "
     ]
    }
   ],
   "source": [
    "st,sp = int(input(\"Enter Starting range: \")),int(input(\"Enter Stopping range: \"))\n",
    "for i in range(st,sp):\n",
    "    print(i,end=\" \")"
   ]
  },
  {
   "cell_type": "code",
   "execution_count": 42,
   "id": "8f4ba362",
   "metadata": {},
   "outputs": [
    {
     "name": "stdout",
     "output_type": "stream",
     "text": [
      "Enter Starting range: 10\n",
      "Enter Stopping range: 20\n",
      "20 19 18 17 16 15 14 13 12 11 "
     ]
    }
   ],
   "source": [
    "g = int(input(\"Enter Starting range: \"))\n",
    "h = int(input(\"Enter Stopping range: \"))\n",
    "for i in range(g,h):\n",
    "    print(\"{}\".format(h-i+g),end=\" \")"
   ]
  },
  {
   "cell_type": "code",
   "execution_count": null,
   "id": "076105a6",
   "metadata": {},
   "outputs": [],
   "source": []
  }
 ],
 "metadata": {
  "kernelspec": {
   "display_name": "Python 3",
   "language": "python",
   "name": "python3"
  },
  "language_info": {
   "codemirror_mode": {
    "name": "ipython",
    "version": 3
   },
   "file_extension": ".py",
   "mimetype": "text/x-python",
   "name": "python",
   "nbconvert_exporter": "python",
   "pygments_lexer": "ipython3",
   "version": "3.7.5"
  }
 },
 "nbformat": 4,
 "nbformat_minor": 5
}
