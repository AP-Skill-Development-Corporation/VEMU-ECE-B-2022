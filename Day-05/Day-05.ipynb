{
 "cells": [
  {
   "cell_type": "markdown",
   "id": "ce094de5",
   "metadata": {},
   "source": [
    "## Functions:\n",
    "    - To perform a specific task\n",
    "    Syntax:\n",
    "        def functionaname(arguments):\n",
    "            //stmnts\n",
    "            return return_value\n",
    "    - To reduce the number of lines of code\n",
    "    - reuseability of code\n",
    "    - To break the complex problem into small modules to perform the task easily"
   ]
  },
  {
   "cell_type": "markdown",
   "id": "75168e88",
   "metadata": {},
   "source": [
    "```\n",
    "Function Types:\n",
    "    - Pre-Defined [builtin]\n",
    "    - User Defined \n",
    "        - 4 types\n",
    "        - With return_type and with arguments\n",
    "        - With return_type and without arguments\n",
    "        - Without return_type and with arguments\n",
    "        - Without return_type and without arguments\n",
    "```"
   ]
  },
  {
   "cell_type": "code",
   "execution_count": 3,
   "id": "13b1ef1f",
   "metadata": {},
   "outputs": [
    {
     "name": "stdout",
     "output_type": "stream",
     "text": [
      "Enter First Number: 12\n",
      "Enter Second Number: 5\n",
      "Biggest of 12 and 5 is: 12\n"
     ]
    }
   ],
   "source": [
    "# With return_type and with arguments\n",
    "# reading => Main\n",
    "# printing => Main\n",
    "# logic => Function\n",
    "def bg2nm(a,b):\n",
    "    if a>b:\n",
    "        return a\n",
    "    return b\n",
    "\n",
    "\n",
    "n = int(input(\"Enter First Number: \"))\n",
    "m = int(input(\"Enter Second Number: \"))\n",
    "print(\"Biggest of {} and {} is: {}\".format(n,m,bg2nm(n,m)))"
   ]
  },
  {
   "cell_type": "code",
   "execution_count": 5,
   "id": "6c7fee0f",
   "metadata": {},
   "outputs": [
    {
     "name": "stdout",
     "output_type": "stream",
     "text": [
      "Enter First Number: 6\n",
      "Enter Second Number: 90\n",
      "Biggest of 6 and 90 is:  90\n"
     ]
    }
   ],
   "source": [
    "# With return_type and without arguments\n",
    "# reading => Function\n",
    "# printing => Main\n",
    "# logic => Function\n",
    "def bg2nm():\n",
    "    n = int(input(\"Enter First Number: \"))\n",
    "    m = int(input(\"Enter Second Number: \"))\n",
    "    print(\"Biggest of {} and {} is: \".format(n,m),end=\" \")\n",
    "    if n>m:\n",
    "        return n\n",
    "    return m\n",
    "\n",
    "print(\"{}\".format(bg2nm()))"
   ]
  },
  {
   "cell_type": "code",
   "execution_count": 6,
   "id": "d9465479",
   "metadata": {},
   "outputs": [
    {
     "name": "stdout",
     "output_type": "stream",
     "text": [
      "Enter First Number: 12\n",
      "Enter Second Number: 3\n",
      "Biggest of 12 and 3 is:  12\n"
     ]
    }
   ],
   "source": [
    "# Without return_type and with arguments\n",
    "# reading => Main\n",
    "# printing => Function\n",
    "# logic => Function\n",
    "def bg2nm(a,b):\n",
    "    if a>b:\n",
    "        print(a)\n",
    "    else:\n",
    "        print(b)\n",
    "\n",
    "\n",
    "n = int(input(\"Enter First Number: \"))\n",
    "m = int(input(\"Enter Second Number: \"))\n",
    "print(\"Biggest of {} and {} is: \".format(n,m),end=\" \")\n",
    "bg2nm(n,m)"
   ]
  },
  {
   "cell_type": "code",
   "execution_count": 9,
   "id": "978a6f32",
   "metadata": {},
   "outputs": [
    {
     "name": "stdout",
     "output_type": "stream",
     "text": [
      "Enter First Number: 45\n",
      "Enter Second Number: 2\n",
      "Biggest of 45 and 2 is:  45\n",
      "None\n"
     ]
    }
   ],
   "source": [
    "# Without return_type and without arguments\n",
    "# reading => Function\n",
    "# printing => Function\n",
    "# logic => Function\n",
    "def bg2nm():\n",
    "    n = int(input(\"Enter First Number: \"))\n",
    "    m = int(input(\"Enter Second Number: \"))\n",
    "    print(\"Biggest of {} and {} is: \".format(n,m),end=\" \")\n",
    "    if n>m:\n",
    "        print(\"{}\".format(n))\n",
    "    else:\n",
    "        print(\"{}\".format(m))\n",
    "\n",
    "bg2nm()  "
   ]
  },
  {
   "cell_type": "markdown",
   "id": "0571b67e",
   "metadata": {},
   "source": [
    "## Data Structures:\n",
    "    - To organize the data in ordered or unorder format\n",
    "    - List\n",
    "    - Tuple\n",
    "    - Set\n",
    "    - String \n",
    "    - Dictionary"
   ]
  },
  {
   "cell_type": "markdown",
   "id": "79b849a2",
   "metadata": {},
   "source": [
    "## List:\n",
    "    - It can be represetend as \"[]\"\n",
    "    - It can be typecasted as list()\n",
    "    - It can changes the values \n",
    "    - Slicing can be done because of index values\n",
    "    - It stores the data in ordered format\n",
    "    - It allows duplicate values"
   ]
  },
  {
   "cell_type": "code",
   "execution_count": 21,
   "id": "2f46e67b",
   "metadata": {},
   "outputs": [
    {
     "name": "stdout",
     "output_type": "stream",
     "text": [
      "[1, 'prasad', 45.0, True, '78', 1, 5, 6, 3, 6]\n",
      "<class 'list'>\n"
     ]
    }
   ],
   "source": [
    "h = [1,'prasad',45.000,True,'78',1,5,6,3,6]\n",
    "print(h)\n",
    "print(type(h))"
   ]
  },
  {
   "cell_type": "code",
   "execution_count": 11,
   "id": "dd94d704",
   "metadata": {},
   "outputs": [
    {
     "name": "stdout",
     "output_type": "stream",
     "text": [
      "10 <class 'int'>\n"
     ]
    }
   ],
   "source": [
    "a = 10\n",
    "print(a,type(a))"
   ]
  },
  {
   "cell_type": "code",
   "execution_count": 14,
   "id": "63f83aaa",
   "metadata": {},
   "outputs": [
    {
     "name": "stdout",
     "output_type": "stream",
     "text": [
      "[1, 'prasad', 45.0, True, '78']\n",
      "[1, 'prasad', 45.0, True, '78']\n",
      "[1, 'prasad', 45.0, True, '78']\n"
     ]
    }
   ],
   "source": [
    "print(h)\n",
    "print(h[:])\n",
    "print(h[::])"
   ]
  },
  {
   "cell_type": "code",
   "execution_count": 16,
   "id": "55949804",
   "metadata": {},
   "outputs": [
    {
     "name": "stdout",
     "output_type": "stream",
     "text": [
      "1 prasad 45.0 True 78 "
     ]
    }
   ],
   "source": [
    "for i in range(len(h)):\n",
    "    print(h[i],end=\" \")"
   ]
  },
  {
   "cell_type": "code",
   "execution_count": 17,
   "id": "0c92de0c",
   "metadata": {},
   "outputs": [
    {
     "name": "stdout",
     "output_type": "stream",
     "text": [
      "1 prasad 45.0 True 78 "
     ]
    }
   ],
   "source": [
    "for i in h:\n",
    "    print(i,end=\" \")"
   ]
  },
  {
   "cell_type": "code",
   "execution_count": 27,
   "id": "5fcf487e",
   "metadata": {},
   "outputs": [
    {
     "name": "stdout",
     "output_type": "stream",
     "text": [
      "[1, 'prasad', 45.0, True, '78', 1, 5, 6, 3, 6]\n",
      "True\n",
      "3\n",
      "[1, 'prasad', 45.0, True, '78', 1, 5, 6, 3, 6]\n",
      "[True, '78', 1, 5, 6, 3, 6]\n",
      "[3, 6]\n",
      "[1, 'prasad', 45.0, True]\n",
      "[1, 'prasad', 45.0, True, '78', 1, 5, 6]\n"
     ]
    }
   ],
   "source": [
    "print(h)\n",
    "print(h[3])\n",
    "print(h[-2])\n",
    "print(h[:])\n",
    "print(h[3:])\n",
    "print(h[-2:])\n",
    "print(h[:4])\n",
    "print(h[:-2])"
   ]
  },
  {
   "cell_type": "code",
   "execution_count": 35,
   "id": "8ee2536f",
   "metadata": {},
   "outputs": [
    {
     "name": "stdout",
     "output_type": "stream",
     "text": [
      "[1, 'prasad', 45.0, True, '78', 1, 5, 6, 3, 6]\n",
      "['prasad', 45.0, True]\n",
      "['prasad', 45.0, True, '78', 1, 5]\n",
      "[]\n",
      "[5, 6]\n"
     ]
    }
   ],
   "source": [
    "print(h)\n",
    "print(h[1:4])\n",
    "print(h[1:-3])\n",
    "print(h[-2:4])\n",
    "print(h[-4:-2])"
   ]
  },
  {
   "cell_type": "code",
   "execution_count": 42,
   "id": "b49b9a28",
   "metadata": {},
   "outputs": [
    {
     "name": "stdout",
     "output_type": "stream",
     "text": [
      "[1, 'prasad', 45.0, True, '78', 1, 5, 6, 3, 6]\n",
      "[45.0, True, '78', 1, 5, 6, 3, 6]\n",
      "[6, 3, 6]\n",
      "[45.0, True, '78']\n",
      "[45.0, True]\n",
      "[6, 3, 6, 5, 1, '78', True, 45.0, 'prasad', 1]\n"
     ]
    }
   ],
   "source": [
    "print(h[::])\n",
    "print(h[2::])\n",
    "print(h[-3::])\n",
    "print(h[2:5:])\n",
    "print(h[2:-6:])\n",
    "print(h[::-1])"
   ]
  },
  {
   "cell_type": "code",
   "execution_count": 43,
   "id": "d1d09f99",
   "metadata": {
    "collapsed": true
   },
   "outputs": [
    {
     "name": "stdout",
     "output_type": "stream",
     "text": [
      "Help on class list in module builtins:\n",
      "\n",
      "class list(object)\n",
      " |  list(iterable=(), /)\n",
      " |  \n",
      " |  Built-in mutable sequence.\n",
      " |  \n",
      " |  If no argument is given, the constructor creates a new empty list.\n",
      " |  The argument must be an iterable if specified.\n",
      " |  \n",
      " |  Methods defined here:\n",
      " |  \n",
      " |  __add__(self, value, /)\n",
      " |      Return self+value.\n",
      " |  \n",
      " |  __contains__(self, key, /)\n",
      " |      Return key in self.\n",
      " |  \n",
      " |  __delitem__(self, key, /)\n",
      " |      Delete self[key].\n",
      " |  \n",
      " |  __eq__(self, value, /)\n",
      " |      Return self==value.\n",
      " |  \n",
      " |  __ge__(self, value, /)\n",
      " |      Return self>=value.\n",
      " |  \n",
      " |  __getattribute__(self, name, /)\n",
      " |      Return getattr(self, name).\n",
      " |  \n",
      " |  __getitem__(...)\n",
      " |      x.__getitem__(y) <==> x[y]\n",
      " |  \n",
      " |  __gt__(self, value, /)\n",
      " |      Return self>value.\n",
      " |  \n",
      " |  __iadd__(self, value, /)\n",
      " |      Implement self+=value.\n",
      " |  \n",
      " |  __imul__(self, value, /)\n",
      " |      Implement self*=value.\n",
      " |  \n",
      " |  __init__(self, /, *args, **kwargs)\n",
      " |      Initialize self.  See help(type(self)) for accurate signature.\n",
      " |  \n",
      " |  __iter__(self, /)\n",
      " |      Implement iter(self).\n",
      " |  \n",
      " |  __le__(self, value, /)\n",
      " |      Return self<=value.\n",
      " |  \n",
      " |  __len__(self, /)\n",
      " |      Return len(self).\n",
      " |  \n",
      " |  __lt__(self, value, /)\n",
      " |      Return self<value.\n",
      " |  \n",
      " |  __mul__(self, value, /)\n",
      " |      Return self*value.\n",
      " |  \n",
      " |  __ne__(self, value, /)\n",
      " |      Return self!=value.\n",
      " |  \n",
      " |  __repr__(self, /)\n",
      " |      Return repr(self).\n",
      " |  \n",
      " |  __reversed__(self, /)\n",
      " |      Return a reverse iterator over the list.\n",
      " |  \n",
      " |  __rmul__(self, value, /)\n",
      " |      Return value*self.\n",
      " |  \n",
      " |  __setitem__(self, key, value, /)\n",
      " |      Set self[key] to value.\n",
      " |  \n",
      " |  __sizeof__(self, /)\n",
      " |      Return the size of the list in memory, in bytes.\n",
      " |  \n",
      " |  append(self, object, /)\n",
      " |      Append object to the end of the list.\n",
      " |  \n",
      " |  clear(self, /)\n",
      " |      Remove all items from list.\n",
      " |  \n",
      " |  copy(self, /)\n",
      " |      Return a shallow copy of the list.\n",
      " |  \n",
      " |  count(self, value, /)\n",
      " |      Return number of occurrences of value.\n",
      " |  \n",
      " |  extend(self, iterable, /)\n",
      " |      Extend list by appending elements from the iterable.\n",
      " |  \n",
      " |  index(self, value, start=0, stop=9223372036854775807, /)\n",
      " |      Return first index of value.\n",
      " |      \n",
      " |      Raises ValueError if the value is not present.\n",
      " |  \n",
      " |  insert(self, index, object, /)\n",
      " |      Insert object before index.\n",
      " |  \n",
      " |  pop(self, index=-1, /)\n",
      " |      Remove and return item at index (default last).\n",
      " |      \n",
      " |      Raises IndexError if list is empty or index is out of range.\n",
      " |  \n",
      " |  remove(self, value, /)\n",
      " |      Remove first occurrence of value.\n",
      " |      \n",
      " |      Raises ValueError if the value is not present.\n",
      " |  \n",
      " |  reverse(self, /)\n",
      " |      Reverse *IN PLACE*.\n",
      " |  \n",
      " |  sort(self, /, *, key=None, reverse=False)\n",
      " |      Stable sort *IN PLACE*.\n",
      " |  \n",
      " |  ----------------------------------------------------------------------\n",
      " |  Static methods defined here:\n",
      " |  \n",
      " |  __new__(*args, **kwargs) from builtins.type\n",
      " |      Create and return a new object.  See help(type) for accurate signature.\n",
      " |  \n",
      " |  ----------------------------------------------------------------------\n",
      " |  Data and other attributes defined here:\n",
      " |  \n",
      " |  __hash__ = None\n",
      "\n"
     ]
    }
   ],
   "source": [
    "help(list)"
   ]
  },
  {
   "cell_type": "code",
   "execution_count": 44,
   "id": "645c14d7",
   "metadata": {},
   "outputs": [
    {
     "name": "stdout",
     "output_type": "stream",
     "text": [
      "['__add__', '__class__', '__contains__', '__delattr__', '__delitem__', '__dir__', '__doc__', '__eq__', '__format__', '__ge__', '__getattribute__', '__getitem__', '__gt__', '__hash__', '__iadd__', '__imul__', '__init__', '__init_subclass__', '__iter__', '__le__', '__len__', '__lt__', '__mul__', '__ne__', '__new__', '__reduce__', '__reduce_ex__', '__repr__', '__reversed__', '__rmul__', '__setattr__', '__setitem__', '__sizeof__', '__str__', '__subclasshook__', 'append', 'clear', 'copy', 'count', 'extend', 'index', 'insert', 'pop', 'remove', 'reverse', 'sort']\n"
     ]
    }
   ],
   "source": [
    "print(dir(list))"
   ]
  },
  {
   "cell_type": "code",
   "execution_count": 48,
   "id": "66f3bf7f",
   "metadata": {
    "collapsed": true
   },
   "outputs": [
    {
     "name": "stdout",
     "output_type": "stream",
     "text": [
      "['__bool__', '__class__', '__contains__', '__delattr__', '__dir__', '__doc__', '__eq__', '__format__', '__ge__', '__getattribute__', '__getitem__', '__gt__', '__hash__', '__init__', '__init_subclass__', '__iter__', '__le__', '__len__', '__lt__', '__ne__', '__new__', '__reduce__', '__reduce_ex__', '__repr__', '__reversed__', '__setattr__', '__sizeof__', '__str__', '__subclasshook__', 'count', 'index', 'start', 'step', 'stop']\n"
     ]
    }
   ],
   "source": [
    "print(dir(range))"
   ]
  },
  {
   "cell_type": "code",
   "execution_count": 49,
   "id": "2dbfce08",
   "metadata": {},
   "outputs": [
    {
     "name": "stdout",
     "output_type": "stream",
     "text": [
      "[1, 56.12312, 'tilak', False, '78', '78', 1, 5, 9]\n"
     ]
    }
   ],
   "source": [
    "g = [1,56.123120,'tilak',False,'78','78',1,5,9]\n",
    "print(g)"
   ]
  },
  {
   "cell_type": "code",
   "execution_count": 50,
   "id": "02216632",
   "metadata": {},
   "outputs": [
    {
     "name": "stdout",
     "output_type": "stream",
     "text": [
      "[1, 56.12312, 'tilak', False, '78', '78', 1, 5, 9]\n",
      "[1, 56.12312, 'tilak', False, '78', '78', 1, 5, 9, 789]\n"
     ]
    }
   ],
   "source": [
    "print(g)\n",
    "g.append(789)\n",
    "print(g)"
   ]
  },
  {
   "cell_type": "code",
   "execution_count": 51,
   "id": "c10e62d1",
   "metadata": {},
   "outputs": [
    {
     "name": "stdout",
     "output_type": "stream",
     "text": [
      "[1, 56.12312, 'tilak', False, '78', '78', 1, 5, 9, 789]\n",
      "[1, 56.12312, 'tilak', False, '78', '78', 1, 5, 9, 789, '9']\n"
     ]
    }
   ],
   "source": [
    "print(g)\n",
    "g.append('9')\n",
    "print(g)"
   ]
  },
  {
   "cell_type": "code",
   "execution_count": 52,
   "id": "5c213a19",
   "metadata": {},
   "outputs": [
    {
     "name": "stdout",
     "output_type": "stream",
     "text": [
      "[1, 56.12312, 'tilak', False, '78', '78', 1, 5, 9, 789, '9']\n",
      "[1, 56.12312, 'tilak', False, '78', '78', 1, 5, 9, 789, '9', [12, 45.021235, 'prasad']]\n"
     ]
    }
   ],
   "source": [
    "print(g)\n",
    "g.append([12,45.021235,'prasad'])\n",
    "print(g)"
   ]
  },
  {
   "cell_type": "code",
   "execution_count": 53,
   "id": "fb7ead39",
   "metadata": {},
   "outputs": [
    {
     "name": "stdout",
     "output_type": "stream",
     "text": [
      "[1, 56.12312, 'tilak', False, '78', '78', 1, 5, 9, 789, '9', [12, 45.021235, 'prasad']]\n",
      "[1, 56.12312, 'tilak', False, '78', '78', 1, 5, 9, 789, '9', [12, 45.021235, 'prasad'], ('p', 12)]\n"
     ]
    }
   ],
   "source": [
    "print(g)\n",
    "g.append(('p',12))\n",
    "print(g)"
   ]
  },
  {
   "cell_type": "code",
   "execution_count": 54,
   "id": "450cc652",
   "metadata": {},
   "outputs": [
    {
     "name": "stdout",
     "output_type": "stream",
     "text": [
      "[1, 56.12312, 'tilak', False, '78', '78', 1, 5, 9, 789, '9', [12, 45.021235, 'prasad'], ('p', 12)]\n"
     ]
    },
    {
     "ename": "TypeError",
     "evalue": "append() takes exactly one argument (2 given)",
     "output_type": "error",
     "traceback": [
      "\u001b[1;31m---------------------------------------------------------------------------\u001b[0m",
      "\u001b[1;31mTypeError\u001b[0m                                 Traceback (most recent call last)",
      "\u001b[1;32m<ipython-input-54-59cf6a3bb8fd>\u001b[0m in \u001b[0;36m<module>\u001b[1;34m\u001b[0m\n\u001b[0;32m      1\u001b[0m \u001b[0mprint\u001b[0m\u001b[1;33m(\u001b[0m\u001b[0mg\u001b[0m\u001b[1;33m)\u001b[0m\u001b[1;33m\u001b[0m\u001b[1;33m\u001b[0m\u001b[0m\n\u001b[1;32m----> 2\u001b[1;33m \u001b[0mg\u001b[0m\u001b[1;33m.\u001b[0m\u001b[0mappend\u001b[0m\u001b[1;33m(\u001b[0m\u001b[1;36m789\u001b[0m\u001b[1;33m,\u001b[0m\u001b[1;36m45\u001b[0m\u001b[1;33m)\u001b[0m\u001b[1;33m\u001b[0m\u001b[1;33m\u001b[0m\u001b[0m\n\u001b[0m\u001b[0;32m      3\u001b[0m \u001b[0mprint\u001b[0m\u001b[1;33m(\u001b[0m\u001b[0mg\u001b[0m\u001b[1;33m)\u001b[0m\u001b[1;33m\u001b[0m\u001b[1;33m\u001b[0m\u001b[0m\n",
      "\u001b[1;31mTypeError\u001b[0m: append() takes exactly one argument (2 given)"
     ]
    }
   ],
   "source": [
    "print(g)\n",
    "g.append(789,45)\n",
    "print(g)"
   ]
  },
  {
   "cell_type": "code",
   "execution_count": 55,
   "id": "15870e8b",
   "metadata": {},
   "outputs": [
    {
     "name": "stdout",
     "output_type": "stream",
     "text": [
      "[1, 56.12312, 'tilak', False, '78', '78', 1, 5, 9, 789, '9', [12, 45.021235, 'prasad'], ('p', 12)]\n"
     ]
    },
    {
     "ename": "TypeError",
     "evalue": "'int' object is not iterable",
     "output_type": "error",
     "traceback": [
      "\u001b[1;31m---------------------------------------------------------------------------\u001b[0m",
      "\u001b[1;31mTypeError\u001b[0m                                 Traceback (most recent call last)",
      "\u001b[1;32m<ipython-input-55-532e476e51c2>\u001b[0m in \u001b[0;36m<module>\u001b[1;34m\u001b[0m\n\u001b[0;32m      1\u001b[0m \u001b[0mprint\u001b[0m\u001b[1;33m(\u001b[0m\u001b[0mg\u001b[0m\u001b[1;33m)\u001b[0m\u001b[1;33m\u001b[0m\u001b[1;33m\u001b[0m\u001b[0m\n\u001b[1;32m----> 2\u001b[1;33m \u001b[0mg\u001b[0m\u001b[1;33m.\u001b[0m\u001b[0mextend\u001b[0m\u001b[1;33m(\u001b[0m\u001b[1;36m45\u001b[0m\u001b[1;33m)\u001b[0m\u001b[1;33m\u001b[0m\u001b[1;33m\u001b[0m\u001b[0m\n\u001b[0m\u001b[0;32m      3\u001b[0m \u001b[0mprint\u001b[0m\u001b[1;33m(\u001b[0m\u001b[0mg\u001b[0m\u001b[1;33m)\u001b[0m\u001b[1;33m\u001b[0m\u001b[1;33m\u001b[0m\u001b[0m\n",
      "\u001b[1;31mTypeError\u001b[0m: 'int' object is not iterable"
     ]
    }
   ],
   "source": [
    "print(g)\n",
    "g.extend(45)\n",
    "print(g)"
   ]
  },
  {
   "cell_type": "code",
   "execution_count": 57,
   "id": "72d3adfb",
   "metadata": {},
   "outputs": [
    {
     "name": "stdout",
     "output_type": "stream",
     "text": [
      "[1, 56.12312, 'tilak', False, '78', '78', 1, 5, 9, 789, '9', [12, 45.021235, 'prasad'], ('p', 12)]\n"
     ]
    },
    {
     "ename": "TypeError",
     "evalue": "extend() takes exactly one argument (2 given)",
     "output_type": "error",
     "traceback": [
      "\u001b[1;31m---------------------------------------------------------------------------\u001b[0m",
      "\u001b[1;31mTypeError\u001b[0m                                 Traceback (most recent call last)",
      "\u001b[1;32m<ipython-input-57-c00d453c1169>\u001b[0m in \u001b[0;36m<module>\u001b[1;34m\u001b[0m\n\u001b[0;32m      1\u001b[0m \u001b[0mprint\u001b[0m\u001b[1;33m(\u001b[0m\u001b[0mg\u001b[0m\u001b[1;33m)\u001b[0m\u001b[1;33m\u001b[0m\u001b[1;33m\u001b[0m\u001b[0m\n\u001b[1;32m----> 2\u001b[1;33m \u001b[0mg\u001b[0m\u001b[1;33m.\u001b[0m\u001b[0mextend\u001b[0m\u001b[1;33m(\u001b[0m\u001b[1;36m789\u001b[0m\u001b[1;33m,\u001b[0m\u001b[1;36m745\u001b[0m\u001b[1;33m)\u001b[0m\u001b[1;33m\u001b[0m\u001b[1;33m\u001b[0m\u001b[0m\n\u001b[0m\u001b[0;32m      3\u001b[0m \u001b[0mprint\u001b[0m\u001b[1;33m(\u001b[0m\u001b[0mg\u001b[0m\u001b[1;33m)\u001b[0m\u001b[1;33m\u001b[0m\u001b[1;33m\u001b[0m\u001b[0m\n",
      "\u001b[1;31mTypeError\u001b[0m: extend() takes exactly one argument (2 given)"
     ]
    }
   ],
   "source": [
    "print(g)\n",
    "g.extend(789,745)\n",
    "print(g)"
   ]
  },
  {
   "cell_type": "code",
   "execution_count": 58,
   "id": "e8fd22e1",
   "metadata": {},
   "outputs": [
    {
     "name": "stdout",
     "output_type": "stream",
     "text": [
      "[1, 56.12312, 'tilak', False, '78', '78', 1, 5, 9, 789, '9', [12, 45.021235, 'prasad'], ('p', 12)]\n",
      "[1, 56.12312, 'tilak', False, '78', '78', 1, 5, 9, 789, '9', [12, 45.021235, 'prasad'], ('p', 12), 78, '45212', False]\n"
     ]
    }
   ],
   "source": [
    "print(g)\n",
    "g.extend([78,'45212',False])\n",
    "print(g)"
   ]
  },
  {
   "cell_type": "code",
   "execution_count": 59,
   "id": "030b1a6e",
   "metadata": {},
   "outputs": [
    {
     "name": "stdout",
     "output_type": "stream",
     "text": [
      "[1, 56.12312, 'tilak', False, '78', '78', 1, 5, 9, 789, '9', [12, 45.021235, 'prasad'], ('p', 12), 78, '45212', False]\n"
     ]
    },
    {
     "ename": "ValueError",
     "evalue": "45 is not in list",
     "output_type": "error",
     "traceback": [
      "\u001b[1;31m---------------------------------------------------------------------------\u001b[0m",
      "\u001b[1;31mValueError\u001b[0m                                Traceback (most recent call last)",
      "\u001b[1;32m<ipython-input-59-ff5f3bf2da84>\u001b[0m in \u001b[0;36m<module>\u001b[1;34m\u001b[0m\n\u001b[0;32m      1\u001b[0m \u001b[0mprint\u001b[0m\u001b[1;33m(\u001b[0m\u001b[0mg\u001b[0m\u001b[1;33m)\u001b[0m\u001b[1;33m\u001b[0m\u001b[1;33m\u001b[0m\u001b[0m\n\u001b[1;32m----> 2\u001b[1;33m \u001b[0mg\u001b[0m\u001b[1;33m.\u001b[0m\u001b[0mindex\u001b[0m\u001b[1;33m(\u001b[0m\u001b[1;36m45\u001b[0m\u001b[1;33m)\u001b[0m\u001b[1;33m\u001b[0m\u001b[1;33m\u001b[0m\u001b[0m\n\u001b[0m\u001b[0;32m      3\u001b[0m \u001b[0mprint\u001b[0m\u001b[1;33m(\u001b[0m\u001b[0mg\u001b[0m\u001b[1;33m)\u001b[0m\u001b[1;33m\u001b[0m\u001b[1;33m\u001b[0m\u001b[0m\n",
      "\u001b[1;31mValueError\u001b[0m: 45 is not in list"
     ]
    }
   ],
   "source": [
    "print(g)\n",
    "g.index(45)\n",
    "print(g)"
   ]
  },
  {
   "cell_type": "code",
   "execution_count": 61,
   "id": "5aab704e",
   "metadata": {},
   "outputs": [
    {
     "name": "stdout",
     "output_type": "stream",
     "text": [
      "[1, 56.12312, 'tilak', False, '78', '78', 1, 5, 9, 789, '9', [12, 45.021235, 'prasad'], ('p', 12), 78, '45212', False]\n",
      "8\n",
      "[1, 56.12312, 'tilak', False, '78', '78', 1, 5, 9, 789, '9', [12, 45.021235, 'prasad'], ('p', 12), 78, '45212', False]\n"
     ]
    }
   ],
   "source": [
    "print(g)\n",
    "print(g.index(9))\n",
    "print(g)"
   ]
  },
  {
   "cell_type": "code",
   "execution_count": 62,
   "id": "15b2048b",
   "metadata": {},
   "outputs": [
    {
     "name": "stdout",
     "output_type": "stream",
     "text": [
      "[1, 56.12312, 'tilak', False, '78', '78', 1, 5, 9, 789, '9', [12, 45.021235, 'prasad'], ('p', 12), 78, '45212', False]\n",
      "[1, 56.12312, 'tilak', False, '78', '78', 1, 5, 9, 789, '9', [12, 45.021235, 'prasad'], ('p', 12), 78, '45212', False]\n",
      "[1, 56.12312, 'tilak', False, '78', '78', 1, 5, 9, 789, '9', [12, 45.021235, 'prasad'], ('p', 12), 78, '45212', False]\n"
     ]
    }
   ],
   "source": [
    "print(g)\n",
    "t = g.copy()\n",
    "print(g)\n",
    "print(t)"
   ]
  },
  {
   "cell_type": "code",
   "execution_count": 63,
   "id": "5f6ac732",
   "metadata": {},
   "outputs": [
    {
     "name": "stdout",
     "output_type": "stream",
     "text": [
      "[1, 56.12312, 'tilak', False, '78', '78', 1, 5, 9, 789, '9', [12, 45.021235, 'prasad'], ('p', 12), 78, '45212', False]\n"
     ]
    },
    {
     "ename": "TypeError",
     "evalue": "remove() takes exactly one argument (0 given)",
     "output_type": "error",
     "traceback": [
      "\u001b[1;31m---------------------------------------------------------------------------\u001b[0m",
      "\u001b[1;31mTypeError\u001b[0m                                 Traceback (most recent call last)",
      "\u001b[1;32m<ipython-input-63-002cca9e765b>\u001b[0m in \u001b[0;36m<module>\u001b[1;34m\u001b[0m\n\u001b[0;32m      1\u001b[0m \u001b[0mprint\u001b[0m\u001b[1;33m(\u001b[0m\u001b[0mg\u001b[0m\u001b[1;33m)\u001b[0m\u001b[1;33m\u001b[0m\u001b[1;33m\u001b[0m\u001b[0m\n\u001b[1;32m----> 2\u001b[1;33m \u001b[0mg\u001b[0m\u001b[1;33m.\u001b[0m\u001b[0mremove\u001b[0m\u001b[1;33m(\u001b[0m\u001b[1;33m)\u001b[0m\u001b[1;33m\u001b[0m\u001b[1;33m\u001b[0m\u001b[0m\n\u001b[0m\u001b[0;32m      3\u001b[0m \u001b[0mprint\u001b[0m\u001b[1;33m(\u001b[0m\u001b[0mg\u001b[0m\u001b[1;33m)\u001b[0m\u001b[1;33m\u001b[0m\u001b[1;33m\u001b[0m\u001b[0m\n",
      "\u001b[1;31mTypeError\u001b[0m: remove() takes exactly one argument (0 given)"
     ]
    }
   ],
   "source": [
    "print(g)\n",
    "g.remove()\n",
    "print(g)"
   ]
  },
  {
   "cell_type": "code",
   "execution_count": 64,
   "id": "9f661e5b",
   "metadata": {},
   "outputs": [
    {
     "name": "stdout",
     "output_type": "stream",
     "text": [
      "[1, 56.12312, 'tilak', False, '78', '78', 1, 5, 9, 789, '9', [12, 45.021235, 'prasad'], ('p', 12), 78, '45212', False]\n",
      "[1, 56.12312, 'tilak', False, '78', '78', 1, 5, 789, '9', [12, 45.021235, 'prasad'], ('p', 12), 78, '45212', False]\n"
     ]
    }
   ],
   "source": [
    "print(g)\n",
    "g.remove(9)\n",
    "print(g)"
   ]
  },
  {
   "cell_type": "code",
   "execution_count": 65,
   "id": "7899021f",
   "metadata": {},
   "outputs": [
    {
     "name": "stdout",
     "output_type": "stream",
     "text": [
      "[1, 56.12312, 'tilak', False, '78', '78', 1, 5, 789, '9', [12, 45.021235, 'prasad'], ('p', 12), 78, '45212', False]\n"
     ]
    },
    {
     "ename": "ValueError",
     "evalue": "list.remove(x): x not in list",
     "output_type": "error",
     "traceback": [
      "\u001b[1;31m---------------------------------------------------------------------------\u001b[0m",
      "\u001b[1;31mValueError\u001b[0m                                Traceback (most recent call last)",
      "\u001b[1;32m<ipython-input-65-41e7fe08e780>\u001b[0m in \u001b[0;36m<module>\u001b[1;34m\u001b[0m\n\u001b[0;32m      1\u001b[0m \u001b[0mprint\u001b[0m\u001b[1;33m(\u001b[0m\u001b[0mg\u001b[0m\u001b[1;33m)\u001b[0m\u001b[1;33m\u001b[0m\u001b[1;33m\u001b[0m\u001b[0m\n\u001b[1;32m----> 2\u001b[1;33m \u001b[0mg\u001b[0m\u001b[1;33m.\u001b[0m\u001b[0mremove\u001b[0m\u001b[1;33m(\u001b[0m\u001b[1;34m'z'\u001b[0m\u001b[1;33m)\u001b[0m\u001b[1;33m\u001b[0m\u001b[1;33m\u001b[0m\u001b[0m\n\u001b[0m\u001b[0;32m      3\u001b[0m \u001b[0mprint\u001b[0m\u001b[1;33m(\u001b[0m\u001b[0mg\u001b[0m\u001b[1;33m)\u001b[0m\u001b[1;33m\u001b[0m\u001b[1;33m\u001b[0m\u001b[0m\n",
      "\u001b[1;31mValueError\u001b[0m: list.remove(x): x not in list"
     ]
    }
   ],
   "source": [
    "print(g)\n",
    "g.remove('z')\n",
    "print(g)"
   ]
  },
  {
   "cell_type": "code",
   "execution_count": 66,
   "id": "d2f369db",
   "metadata": {},
   "outputs": [
    {
     "name": "stdout",
     "output_type": "stream",
     "text": [
      "[1, 56.12312, 'tilak', False, '78', '78', 1, 5, 789, '9', [12, 45.021235, 'prasad'], ('p', 12), 78, '45212', False]\n",
      "[1, 56.12312, 'tilak', '78', '78', 1, 5, 789, '9', [12, 45.021235, 'prasad'], ('p', 12), 78, '45212', False]\n"
     ]
    }
   ],
   "source": [
    "print(g)\n",
    "g.remove(0)\n",
    "print(g)"
   ]
  },
  {
   "cell_type": "code",
   "execution_count": 68,
   "id": "059c5e0e",
   "metadata": {},
   "outputs": [
    {
     "name": "stdout",
     "output_type": "stream",
     "text": [
      "[1, 56.12312, 'tilak', '78', '78', 1, 5, 789, '9', [12, 45.021235, 'prasad'], ('p', 12), 78, '45212', False]\n",
      "[1, 56.12312, 'tilak', '78', '78', 1, 789, '9', [12, 45.021235, 'prasad'], ('p', 12), 78, '45212', False]\n"
     ]
    }
   ],
   "source": [
    "print(g)\n",
    "g.remove(5)\n",
    "print(g)"
   ]
  },
  {
   "cell_type": "code",
   "execution_count": 69,
   "id": "24332626",
   "metadata": {},
   "outputs": [
    {
     "name": "stdout",
     "output_type": "stream",
     "text": [
      "[1, 56.12312, 'tilak', '78', '78', 1, 789, '9', [12, 45.021235, 'prasad'], ('p', 12), 78, '45212', False]\n",
      "[1, 56.12312, 'tilak', False, '78', '78', 1, 5, 9, 789, '9', [12, 45.021235, 'prasad'], ('p', 12), 78, '45212', False]\n"
     ]
    }
   ],
   "source": [
    "print(g)\n",
    "print(t)"
   ]
  },
  {
   "cell_type": "code",
   "execution_count": 70,
   "id": "30936ee2",
   "metadata": {},
   "outputs": [
    {
     "name": "stdout",
     "output_type": "stream",
     "text": [
      "[1, 56.12312, 'tilak', '78', '78', 1, 789, '9', [12, 45.021235, 'prasad'], ('p', 12), 78, '45212', False]\n",
      "[1, 56.12312, 'tilak', '78', '78', 1, 789, '9', [12, 45.021235, 'prasad'], ('p', 12), 78, '45212']\n"
     ]
    }
   ],
   "source": [
    "print(g)\n",
    "g.pop()\n",
    "print(g)"
   ]
  },
  {
   "cell_type": "code",
   "execution_count": 71,
   "id": "fd12d689",
   "metadata": {},
   "outputs": [
    {
     "name": "stdout",
     "output_type": "stream",
     "text": [
      "[1, 56.12312, 'tilak', '78', '78', 1, 789, '9', [12, 45.021235, 'prasad'], ('p', 12), 78, '45212']\n",
      "[1, 56.12312, 'tilak', '78', '78', 789, '9', [12, 45.021235, 'prasad'], ('p', 12), 78, '45212']\n"
     ]
    }
   ],
   "source": [
    "print(g)\n",
    "g.pop(5)\n",
    "print(g)"
   ]
  },
  {
   "cell_type": "code",
   "execution_count": 72,
   "id": "76b46e50",
   "metadata": {},
   "outputs": [
    {
     "name": "stdout",
     "output_type": "stream",
     "text": [
      "[1, 56.12312, 'tilak', '78', '78', 789, '9', [12, 45.021235, 'prasad'], ('p', 12), 78, '45212']\n"
     ]
    },
    {
     "ename": "TypeError",
     "evalue": "insert() takes exactly 2 arguments (0 given)",
     "output_type": "error",
     "traceback": [
      "\u001b[1;31m---------------------------------------------------------------------------\u001b[0m",
      "\u001b[1;31mTypeError\u001b[0m                                 Traceback (most recent call last)",
      "\u001b[1;32m<ipython-input-72-91c9ab3511be>\u001b[0m in \u001b[0;36m<module>\u001b[1;34m\u001b[0m\n\u001b[0;32m      1\u001b[0m \u001b[0mprint\u001b[0m\u001b[1;33m(\u001b[0m\u001b[0mg\u001b[0m\u001b[1;33m)\u001b[0m\u001b[1;33m\u001b[0m\u001b[1;33m\u001b[0m\u001b[0m\n\u001b[1;32m----> 2\u001b[1;33m \u001b[0mg\u001b[0m\u001b[1;33m.\u001b[0m\u001b[0minsert\u001b[0m\u001b[1;33m(\u001b[0m\u001b[1;33m)\u001b[0m\u001b[1;33m\u001b[0m\u001b[1;33m\u001b[0m\u001b[0m\n\u001b[0m\u001b[0;32m      3\u001b[0m \u001b[0mprint\u001b[0m\u001b[1;33m(\u001b[0m\u001b[0mg\u001b[0m\u001b[1;33m)\u001b[0m\u001b[1;33m\u001b[0m\u001b[1;33m\u001b[0m\u001b[0m\n",
      "\u001b[1;31mTypeError\u001b[0m: insert() takes exactly 2 arguments (0 given)"
     ]
    }
   ],
   "source": [
    "print(g)\n",
    "g.insert()\n",
    "print(g)"
   ]
  },
  {
   "cell_type": "code",
   "execution_count": 73,
   "id": "a90756cc",
   "metadata": {},
   "outputs": [
    {
     "name": "stdout",
     "output_type": "stream",
     "text": [
      "[1, 56.12312, 'tilak', '78', '78', 789, '9', [12, 45.021235, 'prasad'], ('p', 12), 78, '45212']\n",
      "[45698, 1, 56.12312, 'tilak', '78', '78', 789, '9', [12, 45.021235, 'prasad'], ('p', 12), 78, '45212']\n"
     ]
    }
   ],
   "source": [
    "print(g)\n",
    "g.insert(0,45698)\n",
    "print(g)"
   ]
  },
  {
   "cell_type": "code",
   "execution_count": 74,
   "id": "ab0f7162",
   "metadata": {},
   "outputs": [
    {
     "name": "stdout",
     "output_type": "stream",
     "text": [
      "[45698, 1, 56.12312, 'tilak', '78', '78', 789, '9', [12, 45.021235, 'prasad'], ('p', 12), 78, '45212']\n",
      "[45698, 1, 56.12312, 'tilak', '78', '78', 789, '9', [12, 45.021235, 'prasad'], ('p', 12), 78, '45212', 45698]\n"
     ]
    }
   ],
   "source": [
    "print(g)\n",
    "g.insert(100,45698)\n",
    "print(g)"
   ]
  },
  {
   "cell_type": "code",
   "execution_count": 75,
   "id": "ff7cfa50",
   "metadata": {},
   "outputs": [
    {
     "name": "stdout",
     "output_type": "stream",
     "text": [
      "[45698, 1, 56.12312, 'tilak', '78', '78', 789, '9', [12, 45.021235, 'prasad'], ('p', 12), 78, '45212', 45698]\n",
      "1\n"
     ]
    }
   ],
   "source": [
    "print(g)\n",
    "print(g.count('9'))"
   ]
  },
  {
   "cell_type": "code",
   "execution_count": 76,
   "id": "2bb76212",
   "metadata": {},
   "outputs": [
    {
     "name": "stdout",
     "output_type": "stream",
     "text": [
      "[45698, 1, 56.12312, 'tilak', '78', '78', 789, '9', [12, 45.021235, 'prasad'], ('p', 12), 78, '45212', 45698]\n",
      "0\n"
     ]
    }
   ],
   "source": [
    "print(g)\n",
    "print(g.count('9451351'))"
   ]
  },
  {
   "cell_type": "code",
   "execution_count": 77,
   "id": "c40bf3f2",
   "metadata": {},
   "outputs": [
    {
     "name": "stdout",
     "output_type": "stream",
     "text": [
      "[45698, 1, 56.12312, 'tilak', '78', '78', 789, '9', [12, 45.021235, 'prasad'], ('p', 12), 78, '45212', 45698]\n",
      "[45698, '45212', 78, ('p', 12), [12, 45.021235, 'prasad'], '9', 789, '78', '78', 'tilak', 56.12312, 1, 45698]\n"
     ]
    }
   ],
   "source": [
    "print(g)\n",
    "g.reverse()\n",
    "print(g)"
   ]
  },
  {
   "cell_type": "code",
   "execution_count": 78,
   "id": "c7af3c4d",
   "metadata": {},
   "outputs": [
    {
     "name": "stdout",
     "output_type": "stream",
     "text": [
      "[45698, '45212', 78, ('p', 12), [12, 45.021235, 'prasad'], '9', 789, '78', '78', 'tilak', 56.12312, 1, 45698]\n"
     ]
    },
    {
     "ename": "TypeError",
     "evalue": "'<' not supported between instances of 'str' and 'int'",
     "output_type": "error",
     "traceback": [
      "\u001b[1;31m---------------------------------------------------------------------------\u001b[0m",
      "\u001b[1;31mTypeError\u001b[0m                                 Traceback (most recent call last)",
      "\u001b[1;32m<ipython-input-78-3748ee22557f>\u001b[0m in \u001b[0;36m<module>\u001b[1;34m\u001b[0m\n\u001b[0;32m      1\u001b[0m \u001b[0mprint\u001b[0m\u001b[1;33m(\u001b[0m\u001b[0mg\u001b[0m\u001b[1;33m)\u001b[0m\u001b[1;33m\u001b[0m\u001b[1;33m\u001b[0m\u001b[0m\n\u001b[1;32m----> 2\u001b[1;33m \u001b[0mg\u001b[0m\u001b[1;33m.\u001b[0m\u001b[0msort\u001b[0m\u001b[1;33m(\u001b[0m\u001b[1;33m)\u001b[0m\u001b[1;33m\u001b[0m\u001b[1;33m\u001b[0m\u001b[0m\n\u001b[0m\u001b[0;32m      3\u001b[0m \u001b[0mprint\u001b[0m\u001b[1;33m(\u001b[0m\u001b[0mg\u001b[0m\u001b[1;33m)\u001b[0m\u001b[1;33m\u001b[0m\u001b[1;33m\u001b[0m\u001b[0m\n",
      "\u001b[1;31mTypeError\u001b[0m: '<' not supported between instances of 'str' and 'int'"
     ]
    }
   ],
   "source": [
    "print(g)\n",
    "g.sort()\n",
    "print(g)"
   ]
  },
  {
   "cell_type": "code",
   "execution_count": 80,
   "id": "9c8b8558",
   "metadata": {},
   "outputs": [
    {
     "name": "stdout",
     "output_type": "stream",
     "text": [
      "[12, 45, 500, 12, 78, 3]\n",
      "[3, 12, 12, 45, 78, 500]\n",
      "[500, 78, 45, 12, 12, 3]\n"
     ]
    }
   ],
   "source": [
    "f = [12,45,500,12,78,3]\n",
    "print(f)\n",
    "f.sort()\n",
    "print(f)\n",
    "f.reverse()\n",
    "print(f)"
   ]
  },
  {
   "cell_type": "code",
   "execution_count": 81,
   "id": "0e79c948",
   "metadata": {},
   "outputs": [
    {
     "name": "stdout",
     "output_type": "stream",
     "text": [
      "[500, 78, 45, 12, 12, 3]\n",
      "[3, 12, 12, 45, 78, 500]\n"
     ]
    }
   ],
   "source": [
    "print(f)\n",
    "f.sort(reverse=False)\n",
    "print(f)"
   ]
  },
  {
   "cell_type": "code",
   "execution_count": 87,
   "id": "20c1e322",
   "metadata": {},
   "outputs": [
    {
     "name": "stdout",
     "output_type": "stream",
     "text": [
      "[3, 12, 12, 45, 78, 500]\n",
      "[]\n"
     ]
    }
   ],
   "source": [
    "print(f)\n",
    "f.clear()\n",
    "print(f)"
   ]
  },
  {
   "cell_type": "code",
   "execution_count": 88,
   "id": "3f098d9d",
   "metadata": {},
   "outputs": [
    {
     "name": "stdout",
     "output_type": "stream",
     "text": [
      "[45698, '45212', 78, ('p', 12), [12, 45.021235, 'prasad'], '9', 789, '78', '78', 'tilak', 56.12312, 1, 45698]\n"
     ]
    },
    {
     "ename": "NameError",
     "evalue": "name 'g' is not defined",
     "output_type": "error",
     "traceback": [
      "\u001b[1;31m---------------------------------------------------------------------------\u001b[0m",
      "\u001b[1;31mNameError\u001b[0m                                 Traceback (most recent call last)",
      "\u001b[1;32m<ipython-input-88-0d1aafb3dac3>\u001b[0m in \u001b[0;36m<module>\u001b[1;34m\u001b[0m\n\u001b[0;32m      1\u001b[0m \u001b[0mprint\u001b[0m\u001b[1;33m(\u001b[0m\u001b[0mg\u001b[0m\u001b[1;33m)\u001b[0m\u001b[1;33m\u001b[0m\u001b[1;33m\u001b[0m\u001b[0m\n\u001b[0;32m      2\u001b[0m \u001b[1;32mdel\u001b[0m \u001b[0mg\u001b[0m\u001b[1;33m\u001b[0m\u001b[1;33m\u001b[0m\u001b[0m\n\u001b[1;32m----> 3\u001b[1;33m \u001b[0mprint\u001b[0m\u001b[1;33m(\u001b[0m\u001b[0mg\u001b[0m\u001b[1;33m)\u001b[0m\u001b[1;33m\u001b[0m\u001b[1;33m\u001b[0m\u001b[0m\n\u001b[0m",
      "\u001b[1;31mNameError\u001b[0m: name 'g' is not defined"
     ]
    }
   ],
   "source": [
    "print(g)\n",
    "del g\n",
    "print(g)"
   ]
  },
  {
   "cell_type": "markdown",
   "id": "6456f3c7",
   "metadata": {},
   "source": [
    "```\n",
    "Input:\n",
    "    5\n",
    "    12\n",
    "    4\n",
    "    56\n",
    "    12\n",
    "    4\n",
    "Output:\n",
    "    List with duplicate values: 4 4 12 12 56\n",
    "    List without duplicate values: 4 12 56\n",
    "```"
   ]
  },
  {
   "cell_type": "code",
   "execution_count": 86,
   "id": "d25da459",
   "metadata": {},
   "outputs": [
    {
     "name": "stdout",
     "output_type": "stream",
     "text": [
      "5\n",
      "12\n",
      "4\n",
      "56\n",
      "12\n",
      "4\n",
      "List with duplicate values:  4 4 12 12 56 \n",
      "List without duplicate values:  4 12 56 "
     ]
    }
   ],
   "source": [
    "n = int(input())\n",
    "p,j = [],[]\n",
    "for i in range(n):\n",
    "    k = int(input())\n",
    "    j.append(k)\n",
    "    if k not in p:\n",
    "        p.append(k)\n",
    "p.sort()\n",
    "j.sort()\n",
    "print(\"List with duplicate values: \",end=\" \")\n",
    "for i in j:\n",
    "    print(i,end=\" \")\n",
    "print(\"\\nList without duplicate values: \",end=\" \")\n",
    "for s in p:\n",
    "    print(s,end=\" \")"
   ]
  },
  {
   "cell_type": "markdown",
   "id": "061e7850",
   "metadata": {},
   "source": [
    "## Tuple:\n",
    "    - It can be represnted as \"()\"\n",
    "    - It can stores the data in ordered format\n",
    "    - Slicing can be done because of index\n",
    "    - It can't changes the value\n",
    "    - It allows duplicate elements\n",
    "    - It can be typecasted as tuple()"
   ]
  },
  {
   "cell_type": "code",
   "execution_count": 89,
   "id": "4e757b21",
   "metadata": {},
   "outputs": [
    {
     "name": "stdout",
     "output_type": "stream",
     "text": [
      "(12, False, 'Lalitha', 45.02132, '34') <class 'tuple'>\n",
      "(12, False, 'Lalitha', 45.02132, '34')\n",
      "(12, False, 'Lalitha', 45.02132, '34')\n"
     ]
    }
   ],
   "source": [
    "y = (12,False,'Lalitha',45.02132,'34')\n",
    "print(y,type(y))\n",
    "print(y[:])\n",
    "print(y[::])"
   ]
  },
  {
   "cell_type": "code",
   "execution_count": 90,
   "id": "23fe128a",
   "metadata": {},
   "outputs": [
    {
     "name": "stdout",
     "output_type": "stream",
     "text": [
      "Lalitha\n"
     ]
    }
   ],
   "source": [
    "print(y[2])"
   ]
  },
  {
   "cell_type": "code",
   "execution_count": 91,
   "id": "8843624f",
   "metadata": {},
   "outputs": [
    {
     "name": "stdout",
     "output_type": "stream",
     "text": [
      "['__add__', '__class__', '__contains__', '__delattr__', '__dir__', '__doc__', '__eq__', '__format__', '__ge__', '__getattribute__', '__getitem__', '__getnewargs__', '__gt__', '__hash__', '__init__', '__init_subclass__', '__iter__', '__le__', '__len__', '__lt__', '__mul__', '__ne__', '__new__', '__reduce__', '__reduce_ex__', '__repr__', '__rmul__', '__setattr__', '__sizeof__', '__str__', '__subclasshook__', 'count', 'index']\n"
     ]
    }
   ],
   "source": [
    "print(dir(tuple))"
   ]
  },
  {
   "cell_type": "code",
   "execution_count": 92,
   "id": "d4a5c47e",
   "metadata": {},
   "outputs": [
    {
     "name": "stdout",
     "output_type": "stream",
     "text": [
      "(12, False, 'Lalitha', 45.02132, '34')\n"
     ]
    }
   ],
   "source": [
    "print(y)"
   ]
  },
  {
   "cell_type": "code",
   "execution_count": 93,
   "id": "88338f9d",
   "metadata": {},
   "outputs": [
    {
     "name": "stdout",
     "output_type": "stream",
     "text": [
      "(12, False, 'Lalitha', 45.02132, '34')\n",
      "1\n"
     ]
    }
   ],
   "source": [
    "print(y)\n",
    "print(y.count('34'))"
   ]
  },
  {
   "cell_type": "code",
   "execution_count": 94,
   "id": "a1515631",
   "metadata": {},
   "outputs": [
    {
     "name": "stdout",
     "output_type": "stream",
     "text": [
      "0\n"
     ]
    }
   ],
   "source": [
    "print(y.count('r'))"
   ]
  },
  {
   "cell_type": "code",
   "execution_count": 95,
   "id": "25dbb6d1",
   "metadata": {},
   "outputs": [
    {
     "name": "stdout",
     "output_type": "stream",
     "text": [
      "(12, False, 'Lalitha', 45.02132, '34')\n"
     ]
    },
    {
     "ename": "ValueError",
     "evalue": "tuple.index(x): x not in tuple",
     "output_type": "error",
     "traceback": [
      "\u001b[1;31m---------------------------------------------------------------------------\u001b[0m",
      "\u001b[1;31mValueError\u001b[0m                                Traceback (most recent call last)",
      "\u001b[1;32m<ipython-input-95-cdc444e23151>\u001b[0m in \u001b[0;36m<module>\u001b[1;34m\u001b[0m\n\u001b[0;32m      1\u001b[0m \u001b[0mprint\u001b[0m\u001b[1;33m(\u001b[0m\u001b[0my\u001b[0m\u001b[1;33m)\u001b[0m\u001b[1;33m\u001b[0m\u001b[1;33m\u001b[0m\u001b[0m\n\u001b[1;32m----> 2\u001b[1;33m \u001b[0mprint\u001b[0m\u001b[1;33m(\u001b[0m\u001b[0my\u001b[0m\u001b[1;33m.\u001b[0m\u001b[0mindex\u001b[0m\u001b[1;33m(\u001b[0m\u001b[1;34m'True'\u001b[0m\u001b[1;33m)\u001b[0m\u001b[1;33m)\u001b[0m\u001b[1;33m\u001b[0m\u001b[1;33m\u001b[0m\u001b[0m\n\u001b[0m",
      "\u001b[1;31mValueError\u001b[0m: tuple.index(x): x not in tuple"
     ]
    }
   ],
   "source": [
    "print(y)\n",
    "print(y.index('True'))"
   ]
  },
  {
   "cell_type": "code",
   "execution_count": 96,
   "id": "4f105c6e",
   "metadata": {},
   "outputs": [
    {
     "name": "stdout",
     "output_type": "stream",
     "text": [
      "(12, False, 'Lalitha', 45.02132, '34')\n",
      "0\n"
     ]
    }
   ],
   "source": [
    "print(y)\n",
    "print(y.index(12))"
   ]
  },
  {
   "cell_type": "code",
   "execution_count": 98,
   "id": "565b0d49",
   "metadata": {},
   "outputs": [
    {
     "name": "stdout",
     "output_type": "stream",
     "text": [
      "[12, False, 'Lalitha', 45.02132, '34'] <class 'list'>\n",
      "(12, False, 'Lalitha', 45.02132) <class 'tuple'>\n"
     ]
    }
   ],
   "source": [
    "t = list(y)\n",
    "print(t,type(t))\n",
    "t.pop()\n",
    "h = tuple(t)\n",
    "print(h,type(h))"
   ]
  },
  {
   "cell_type": "markdown",
   "id": "51093be3",
   "metadata": {},
   "source": [
    "## Dictionary:\n",
    "    - It can be represeted as \"{}\"\n",
    "    - It can stores the data in key and value pairs\n",
    "    - It can be typecasted as dict()\n",
    "    - It can't allows duplicate values for keys and not for values\n",
    "    - In keys we cant cnahe but in values we can change"
   ]
  },
  {
   "cell_type": "code",
   "execution_count": 99,
   "id": "55fda313",
   "metadata": {},
   "outputs": [
    {
     "name": "stdout",
     "output_type": "stream",
     "text": [
      "{} <class 'dict'>\n"
     ]
    }
   ],
   "source": [
    "t = {}\n",
    "print(t,type(t))"
   ]
  },
  {
   "cell_type": "code",
   "execution_count": 100,
   "id": "200ca08f",
   "metadata": {},
   "outputs": [
    {
     "name": "stdout",
     "output_type": "stream",
     "text": [
      "{'4'} <class 'set'>\n"
     ]
    }
   ],
   "source": [
    "g = {'4'}\n",
    "print(g,type(g))"
   ]
  },
  {
   "cell_type": "markdown",
   "id": "a5309b91",
   "metadata": {},
   "source": [
    "```\n",
    "    p = {[(,),(,)]}\n",
    "```"
   ]
  },
  {
   "cell_type": "code",
   "execution_count": 103,
   "id": "cbf563b3",
   "metadata": {},
   "outputs": [
    {
     "name": "stdout",
     "output_type": "stream",
     "text": [
      "{'name': ['somu', 'kiran', 'lalitha'], 'age': 10, 'sal': 25000}\n"
     ]
    }
   ],
   "source": [
    "t = {'name':['somu','kiran','lalitha'],'age':10,'sal':25000}\n",
    "print(t)"
   ]
  },
  {
   "cell_type": "code",
   "execution_count": 104,
   "id": "22f841a6",
   "metadata": {},
   "outputs": [
    {
     "name": "stdout",
     "output_type": "stream",
     "text": [
      "['__class__', '__contains__', '__delattr__', '__delitem__', '__dir__', '__doc__', '__eq__', '__format__', '__ge__', '__getattribute__', '__getitem__', '__gt__', '__hash__', '__init__', '__init_subclass__', '__iter__', '__le__', '__len__', '__lt__', '__ne__', '__new__', '__reduce__', '__reduce_ex__', '__repr__', '__setattr__', '__setitem__', '__sizeof__', '__str__', '__subclasshook__', 'clear', 'copy', 'fromkeys', 'get', 'items', 'keys', 'pop', 'popitem', 'setdefault', 'update', 'values']\n"
     ]
    }
   ],
   "source": [
    "print(dir(dict))"
   ]
  },
  {
   "cell_type": "code",
   "execution_count": 113,
   "id": "7118117b",
   "metadata": {},
   "outputs": [
    {
     "name": "stdout",
     "output_type": "stream",
     "text": [
      "('name', ['somu', 'kiran', 'lalitha']) ('age', 10) ('sal', 25000) "
     ]
    }
   ],
   "source": [
    "for i in t.items():\n",
    "    print(i,end=\" \")"
   ]
  },
  {
   "cell_type": "code",
   "execution_count": 110,
   "id": "2b7ff282",
   "metadata": {},
   "outputs": [
    {
     "name": "stdout",
     "output_type": "stream",
     "text": [
      "name ['somu', 'kiran', 'lalitha']\n",
      "age 10\n",
      "sal 25000\n"
     ]
    }
   ],
   "source": [
    "for i,j in t.items():\n",
    "    print(i,j)"
   ]
  },
  {
   "cell_type": "code",
   "execution_count": 114,
   "id": "f06a5159",
   "metadata": {},
   "outputs": [
    {
     "name": "stdout",
     "output_type": "stream",
     "text": [
      "dict_keys(['name', 'age', 'sal'])\n"
     ]
    }
   ],
   "source": [
    "print(t.keys())"
   ]
  },
  {
   "cell_type": "code",
   "execution_count": 115,
   "id": "21b8bf58",
   "metadata": {},
   "outputs": [
    {
     "name": "stdout",
     "output_type": "stream",
     "text": [
      "dict_values([['somu', 'kiran', 'lalitha'], 10, 25000])\n"
     ]
    }
   ],
   "source": [
    "print(t.values())"
   ]
  },
  {
   "cell_type": "code",
   "execution_count": 116,
   "id": "fb0f99ad",
   "metadata": {},
   "outputs": [
    {
     "name": "stdout",
     "output_type": "stream",
     "text": [
      "['somu', 'kiran', 'lalitha']\n"
     ]
    }
   ],
   "source": [
    "print(t.get('name'))"
   ]
  },
  {
   "cell_type": "code",
   "execution_count": 117,
   "id": "654e11b2",
   "metadata": {},
   "outputs": [
    {
     "name": "stdout",
     "output_type": "stream",
     "text": [
      "10\n"
     ]
    }
   ],
   "source": [
    "print(t['age'])"
   ]
  },
  {
   "cell_type": "code",
   "execution_count": 118,
   "id": "2360ca3e",
   "metadata": {},
   "outputs": [
    {
     "name": "stdout",
     "output_type": "stream",
     "text": [
      "{'name': ['somu', 'kiran', 'lalitha'], 'age': 10, 'sal': 25000}\n"
     ]
    },
    {
     "ename": "TypeError",
     "evalue": "pop expected at least 1 arguments, got 0",
     "output_type": "error",
     "traceback": [
      "\u001b[1;31m---------------------------------------------------------------------------\u001b[0m",
      "\u001b[1;31mTypeError\u001b[0m                                 Traceback (most recent call last)",
      "\u001b[1;32m<ipython-input-118-21559998056d>\u001b[0m in \u001b[0;36m<module>\u001b[1;34m\u001b[0m\n\u001b[0;32m      1\u001b[0m \u001b[0mprint\u001b[0m\u001b[1;33m(\u001b[0m\u001b[0mt\u001b[0m\u001b[1;33m)\u001b[0m\u001b[1;33m\u001b[0m\u001b[1;33m\u001b[0m\u001b[0m\n\u001b[1;32m----> 2\u001b[1;33m \u001b[0mt\u001b[0m\u001b[1;33m.\u001b[0m\u001b[0mpop\u001b[0m\u001b[1;33m(\u001b[0m\u001b[1;33m)\u001b[0m\u001b[1;33m\u001b[0m\u001b[1;33m\u001b[0m\u001b[0m\n\u001b[0m\u001b[0;32m      3\u001b[0m \u001b[0mprint\u001b[0m\u001b[1;33m(\u001b[0m\u001b[0mt\u001b[0m\u001b[1;33m)\u001b[0m\u001b[1;33m\u001b[0m\u001b[1;33m\u001b[0m\u001b[0m\n",
      "\u001b[1;31mTypeError\u001b[0m: pop expected at least 1 arguments, got 0"
     ]
    }
   ],
   "source": [
    "print(t)\n",
    "t.pop()\n",
    "print(t)"
   ]
  },
  {
   "cell_type": "code",
   "execution_count": 119,
   "id": "73cc2ffe",
   "metadata": {},
   "outputs": [
    {
     "name": "stdout",
     "output_type": "stream",
     "text": [
      "{'name': ['somu', 'kiran', 'lalitha'], 'age': 10, 'sal': 25000}\n",
      "{'name': ['somu', 'kiran', 'lalitha'], 'age': 10}\n"
     ]
    }
   ],
   "source": [
    "print(t)\n",
    "t.pop('sal')\n",
    "print(t)"
   ]
  },
  {
   "cell_type": "code",
   "execution_count": 120,
   "id": "d2a73df9",
   "metadata": {},
   "outputs": [
    {
     "name": "stdout",
     "output_type": "stream",
     "text": [
      "{'name': ['somu', 'kiran', 'lalitha'], 'age': 10}\n",
      "{'name': ['somu', 'kiran', 'lalitha']}\n"
     ]
    }
   ],
   "source": [
    "print(t)\n",
    "t.popitem()\n",
    "print(t)"
   ]
  },
  {
   "cell_type": "code",
   "execution_count": 121,
   "id": "17eec122",
   "metadata": {},
   "outputs": [
    {
     "name": "stdout",
     "output_type": "stream",
     "text": [
      "{'name': ['somu', 'kiran', 'lalitha']}\n",
      "{'name': ['somu', 'kiran', 'lalitha'], 'sal': 45000}\n"
     ]
    }
   ],
   "source": [
    "print(t)\n",
    "t['sal'] = 45000\n",
    "print(t)"
   ]
  },
  {
   "cell_type": "code",
   "execution_count": 123,
   "id": "b501e0a0",
   "metadata": {},
   "outputs": [
    {
     "name": "stdout",
     "output_type": "stream",
     "text": [
      "{'name': ['somu', 'kiran', 'lalitha'], 'sal': 45000}\n",
      "{'name': ['somu', 'kiran', 'lalitha'], 'sal': 12000}\n"
     ]
    }
   ],
   "source": [
    "print(t)\n",
    "t.update({'sal':12000})\n",
    "print(t)"
   ]
  },
  {
   "cell_type": "code",
   "execution_count": 124,
   "id": "25053388",
   "metadata": {},
   "outputs": [
    {
     "name": "stdout",
     "output_type": "stream",
     "text": [
      "{'name': ['somu', 'kiran', 'lalitha'], 'sal': 12000}\n"
     ]
    },
    {
     "ename": "TypeError",
     "evalue": "setdefault expected at least 1 arguments, got 0",
     "output_type": "error",
     "traceback": [
      "\u001b[1;31m---------------------------------------------------------------------------\u001b[0m",
      "\u001b[1;31mTypeError\u001b[0m                                 Traceback (most recent call last)",
      "\u001b[1;32m<ipython-input-124-77dd5446327d>\u001b[0m in \u001b[0;36m<module>\u001b[1;34m\u001b[0m\n\u001b[0;32m      1\u001b[0m \u001b[0mprint\u001b[0m\u001b[1;33m(\u001b[0m\u001b[0mt\u001b[0m\u001b[1;33m)\u001b[0m\u001b[1;33m\u001b[0m\u001b[1;33m\u001b[0m\u001b[0m\n\u001b[1;32m----> 2\u001b[1;33m \u001b[0mt\u001b[0m\u001b[1;33m.\u001b[0m\u001b[0msetdefault\u001b[0m\u001b[1;33m(\u001b[0m\u001b[1;33m)\u001b[0m\u001b[1;33m\u001b[0m\u001b[1;33m\u001b[0m\u001b[0m\n\u001b[0m\u001b[0;32m      3\u001b[0m \u001b[0mprint\u001b[0m\u001b[1;33m(\u001b[0m\u001b[0mt\u001b[0m\u001b[1;33m)\u001b[0m\u001b[1;33m\u001b[0m\u001b[1;33m\u001b[0m\u001b[0m\n",
      "\u001b[1;31mTypeError\u001b[0m: setdefault expected at least 1 arguments, got 0"
     ]
    }
   ],
   "source": [
    "print(t)\n",
    "t.setdefault()\n",
    "print(t)"
   ]
  },
  {
   "cell_type": "code",
   "execution_count": 125,
   "id": "44caf76a",
   "metadata": {},
   "outputs": [
    {
     "name": "stdout",
     "output_type": "stream",
     "text": [
      "{'name': ['somu', 'kiran', 'lalitha'], 'sal': 12000}\n",
      "{'name': ['somu', 'kiran', 'lalitha'], 'sal': 12000, 'age': None}\n"
     ]
    }
   ],
   "source": [
    "print(t)\n",
    "t.setdefault('age')\n",
    "print(t)"
   ]
  },
  {
   "cell_type": "code",
   "execution_count": 127,
   "id": "d6a465e2",
   "metadata": {},
   "outputs": [
    {
     "name": "stdout",
     "output_type": "stream",
     "text": [
      "{'name': ['somu', 'kiran', 'lalitha'], 'sal': 12000, 'age': None}\n",
      "{'name': ['somu', 'kiran', 'lalitha'], 'sal': 12000, 'age': None, 'year': 2}\n"
     ]
    }
   ],
   "source": [
    "print(t)\n",
    "t.setdefault('year',2)\n",
    "print(t)"
   ]
  },
  {
   "cell_type": "code",
   "execution_count": 128,
   "id": "9309dfcd",
   "metadata": {},
   "outputs": [
    {
     "name": "stdout",
     "output_type": "stream",
     "text": [
      "{'name': ['somu', 'kiran', 'lalitha'], 'sal': 12000, 'age': None, 'year': 2}\n",
      "{'name': ['somu', 'kiran', 'lalitha'], 'sal': 12000, 'age': 45, 'year': 2}\n"
     ]
    }
   ],
   "source": [
    "print(t)\n",
    "t['age'] = 45\n",
    "print(t)"
   ]
  },
  {
   "cell_type": "code",
   "execution_count": 138,
   "id": "e0fee8eb",
   "metadata": {},
   "outputs": [
    {
     "name": "stdout",
     "output_type": "stream",
     "text": [
      "{45: [12, 78], 5: [12, 78], 78: [12, 78]}\n"
     ]
    }
   ],
   "source": [
    "d = [12,78]\n",
    "e = [45,5,78]\n",
    "g = {}\n",
    "# for i in d:\n",
    "#     e = g.fromkeys(e,i)\n",
    "#     print(e)\n",
    "k = g.fromkeys(e,d)\n",
    "print(k)"
   ]
  },
  {
   "cell_type": "code",
   "execution_count": null,
   "id": "a313d297",
   "metadata": {},
   "outputs": [],
   "source": []
  }
 ],
 "metadata": {
  "kernelspec": {
   "display_name": "Python 3",
   "language": "python",
   "name": "python3"
  },
  "language_info": {
   "codemirror_mode": {
    "name": "ipython",
    "version": 3
   },
   "file_extension": ".py",
   "mimetype": "text/x-python",
   "name": "python",
   "nbconvert_exporter": "python",
   "pygments_lexer": "ipython3",
   "version": "3.7.5"
  }
 },
 "nbformat": 4,
 "nbformat_minor": 5
}
