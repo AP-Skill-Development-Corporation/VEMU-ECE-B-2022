{
 "cells": [
  {
   "cell_type": "markdown",
   "id": "f54cc5f7",
   "metadata": {},
   "source": [
    "## Variables:\n",
    "    - To store a value\n",
    "    - To change a value"
   ]
  },
  {
   "cell_type": "code",
   "execution_count": 1,
   "id": "b5449d9c",
   "metadata": {},
   "outputs": [
    {
     "data": {
      "text/plain": [
       "20"
      ]
     },
     "execution_count": 1,
     "metadata": {},
     "output_type": "execute_result"
    }
   ],
   "source": [
    "a = 20\n",
    "a"
   ]
  },
  {
   "cell_type": "code",
   "execution_count": 4,
   "id": "4b3a76f7",
   "metadata": {},
   "outputs": [
    {
     "data": {
      "text/plain": [
       "'ramu'"
      ]
     },
     "execution_count": 4,
     "metadata": {},
     "output_type": "execute_result"
    }
   ],
   "source": [
    "e = 45\n",
    "d = 'ramu'\n",
    "e\n",
    "d"
   ]
  },
  {
   "cell_type": "code",
   "execution_count": 6,
   "id": "8996b5b3",
   "metadata": {},
   "outputs": [
    {
     "data": {
      "text/plain": [
       "(45, 'ramu')"
      ]
     },
     "execution_count": 6,
     "metadata": {},
     "output_type": "execute_result"
    }
   ],
   "source": [
    "e,d"
   ]
  },
  {
   "cell_type": "code",
   "execution_count": 10,
   "id": "591c77e1",
   "metadata": {},
   "outputs": [
    {
     "data": {
      "text/plain": [
       "(12, 23.0, 'prasad', True, '45')"
      ]
     },
     "execution_count": 10,
     "metadata": {},
     "output_type": "execute_result"
    }
   ],
   "source": [
    "w,u,p,k,j = 12,23.00,'prasad',True,'45'\n",
    "w,u,p,k,j"
   ]
  },
  {
   "cell_type": "code",
   "execution_count": 11,
   "id": "cf53ac6b",
   "metadata": {},
   "outputs": [
    {
     "data": {
      "text/plain": [
       "'45'"
      ]
     },
     "execution_count": 11,
     "metadata": {},
     "output_type": "execute_result"
    }
   ],
   "source": [
    "j"
   ]
  },
  {
   "cell_type": "code",
   "execution_count": 12,
   "id": "325f0090",
   "metadata": {},
   "outputs": [
    {
     "data": {
      "text/plain": [
       "(20, 20, 20)"
      ]
     },
     "execution_count": 12,
     "metadata": {},
     "output_type": "execute_result"
    }
   ],
   "source": [
    "r = n = m = 20\n",
    "r,n,m"
   ]
  },
  {
   "cell_type": "markdown",
   "id": "6f8eb3c2",
   "metadata": {},
   "source": [
    "## Data Types:\n",
    "    - int => only numeric values\n",
    "    - float => both values like numeric and decimal\n",
    "    - string => enclosed with ' or \"\n",
    "    - complex => rela and imaginary parts\n",
    "    - All Data structures[list,tuples,set and dictionary]\n",
    "    - Boolean [True,False and None]"
   ]
  },
  {
   "cell_type": "markdown",
   "id": "711b6362",
   "metadata": {},
   "source": [
    "## Type method:\n",
    "    - To know the data types of a variable\n",
    "    Syntax:\n",
    "        type(variablename)"
   ]
  },
  {
   "cell_type": "code",
   "execution_count": 13,
   "id": "fa04724c",
   "metadata": {},
   "outputs": [
    {
     "data": {
      "text/plain": [
       "int"
      ]
     },
     "execution_count": 13,
     "metadata": {},
     "output_type": "execute_result"
    }
   ],
   "source": [
    "s = 45\n",
    "type(s)"
   ]
  },
  {
   "cell_type": "code",
   "execution_count": 14,
   "id": "29396c1a",
   "metadata": {},
   "outputs": [
    {
     "data": {
      "text/plain": [
       "'78'"
      ]
     },
     "execution_count": 14,
     "metadata": {},
     "output_type": "execute_result"
    }
   ],
   "source": [
    "y = '78'\n",
    "y"
   ]
  },
  {
   "cell_type": "code",
   "execution_count": 15,
   "id": "e82dc322",
   "metadata": {},
   "outputs": [
    {
     "name": "stdout",
     "output_type": "stream",
     "text": [
      "78\n"
     ]
    }
   ],
   "source": [
    "print(y)"
   ]
  },
  {
   "cell_type": "code",
   "execution_count": 17,
   "id": "eeeef149",
   "metadata": {},
   "outputs": [
    {
     "name": "stdout",
     "output_type": "stream",
     "text": [
      "45 <class 'int'>\n",
      "tilak <class 'str'>\n",
      "56.012 <class 'float'>\n",
      "False <class 'bool'>\n",
      "45.0212 <class 'str'>\n"
     ]
    }
   ],
   "source": [
    "t,m,n,p,f =45,'tilak',56.012,False,'45.0212'\n",
    "print(t,type(t))\n",
    "print(m,type(m))\n",
    "print(n,type(n))\n",
    "print(p,type(p))\n",
    "print(f,type(f))"
   ]
  },
  {
   "cell_type": "code",
   "execution_count": 18,
   "id": "0976b6df",
   "metadata": {},
   "outputs": [
    {
     "name": "stdout",
     "output_type": "stream",
     "text": [
      "(5+3j) <class 'complex'>\n"
     ]
    }
   ],
   "source": [
    "d = 5+3j\n",
    "print(d,type(d))"
   ]
  },
  {
   "cell_type": "markdown",
   "id": "044fdaec",
   "metadata": {},
   "source": [
    "## Typecasting:\n",
    "    - To change the data type from one data type to another data type\n",
    "    - int()\n",
    "    - float()\n",
    "    - str()\n",
    "    - All Data Structures[List,Tuple,Set and Dictionary]"
   ]
  },
  {
   "cell_type": "markdown",
   "id": "cf5935b5",
   "metadata": {},
   "source": [
    "## Input Formatting:\n",
    "    - For Dynamic Programming to read a value from user\n",
    "    - It displays an info to a user\n",
    "    - It read a data from user\n",
    "    - By default it stores string data type values\n",
    "    Syntax:\n",
    "     input(\"Info to a user\")"
   ]
  },
  {
   "cell_type": "code",
   "execution_count": 4,
   "id": "62407fac",
   "metadata": {},
   "outputs": [
    {
     "name": "stdout",
     "output_type": "stream",
     "text": [
      "Enter a value: 45.021321\n",
      "45.021321 <class 'str'>\n"
     ]
    }
   ],
   "source": [
    "a = input(\"Enter a value: \")\n",
    "print(a,type(a))"
   ]
  },
  {
   "cell_type": "code",
   "execution_count": 5,
   "id": "a58c2561",
   "metadata": {},
   "outputs": [
    {
     "name": "stdout",
     "output_type": "stream",
     "text": [
      "Enter First value: 78\n",
      "Enter Second value: tilak\n",
      "78 <class 'str'>\n",
      "tilak <class 'str'>\n"
     ]
    }
   ],
   "source": [
    "a = input(\"Enter First value: \")\n",
    "b = input(\"Enter Second value: \")\n",
    "print(a,type(a))\n",
    "print(b,type(b))"
   ]
  },
  {
   "cell_type": "code",
   "execution_count": 6,
   "id": "bc03e13e",
   "metadata": {},
   "outputs": [
    {
     "name": "stdout",
     "output_type": "stream",
     "text": [
      "Enter First value: 45\n",
      "Enter Second value: 78\n",
      "45 <class 'str'>\n",
      "78 <class 'str'>\n"
     ]
    }
   ],
   "source": [
    "a,b = input(\"Enter First value: \"),input(\"Enter Second value: \")\n",
    "print(a,type(a))\n",
    "print(b,type(b))"
   ]
  },
  {
   "cell_type": "markdown",
   "id": "c3e014d5",
   "metadata": {},
   "source": [
    "## Output Formatting:\n",
    "    - ,\n",
    "    - %\n",
    "    - .format [pyformat.info]"
   ]
  },
  {
   "cell_type": "code",
   "execution_count": 18,
   "id": "2c015973",
   "metadata": {},
   "outputs": [
    {
     "name": "stdout",
     "output_type": "stream",
     "text": [
      "Enter First Value: 8\n",
      "Enter Second Value: 5\n",
      "Addition of 8 and 5 is:  13 <class 'str'>\n",
      "Substraction of 8 and 5 is: 3\n",
      "Multiplication of 5 and 8 is: 40\n",
      "8 <class 'str'>\n"
     ]
    }
   ],
   "source": [
    "n,m = input(\"Enter First Value: \"),input(\"Enter Second Value: \")\n",
    "print(\"Addition of\",n,\"and\",m,\"is: \",int(n)+int(m),type(n))\n",
    "print(\"Substraction of %s and %s is: %d\"%(n,m,int(n)-int(m)))\n",
    "print(\"Multiplication of {1} and {0} is: {2}\".format(n,m,int(n)*int(m)))\n",
    "print(n,type(n))"
   ]
  },
  {
   "cell_type": "markdown",
   "id": "c3286326",
   "metadata": {},
   "source": [
    "## Operators:\n",
    "    - Arithmetic -> +,-,*,/,%,floor Division(//),power(**)\n",
    "    - Logical -> AND,OR,NOT,XOR\n",
    "    - Bitwise -> &&,||,!,>>,<<,~\n",
    "    - Relational -> >=,<=,==,!=,>,<\n",
    "    - Assignment -> +=,-=,*=,/=,%=,//=,**=\n",
    "    - Membership -> in,not in\n",
    "    - Identity -> is, is not"
   ]
  },
  {
   "cell_type": "code",
   "execution_count": 21,
   "id": "6a87bb8c",
   "metadata": {},
   "outputs": [
    {
     "name": "stdout",
     "output_type": "stream",
     "text": [
      "Enter First number: 23\n",
      "Enter Second number: 5\n",
      "Division of 23 and 5 is: 4.6\n",
      "Modulus of 23 and 5 is: 3\n",
      "Floor Division of 23 and 5 is: 4\n",
      "23 Power of 5 is: 6436343\n"
     ]
    }
   ],
   "source": [
    "n,m = int(input(\"Enter First number: \")),int(input(\"Enter Second number: \"))\n",
    "print(\"Division of {} and {} is: {}\".format(n,m,n/m))\n",
    "print(\"Modulus of {} and {} is: {}\".format(n,m,n%m))\n",
    "print(\"Floor Division of {} and {} is: {}\".format(n,m,n//m))\n",
    "print(\"{} Power of {} is: {}\".format(n,m,n**m))"
   ]
  },
  {
   "cell_type": "markdown",
   "id": "377aa976",
   "metadata": {},
   "source": [
    "## Conditional Statements:\n",
    "    - To check whether a given condition is either True or False\n",
    "    - if => single case\n",
    "    - if-else => two cases\n",
    "    - nested if => 2 or more cases\n",
    "    - elif => 3 or more n number of cases"
   ]
  },
  {
   "cell_type": "markdown",
   "id": "eaed9df4",
   "metadata": {},
   "source": [
    "## If\n",
    "    Syntax:\n",
    "        if condition:\n",
    "            //stmnts"
   ]
  },
  {
   "cell_type": "code",
   "execution_count": 24,
   "id": "9a12a82b",
   "metadata": {},
   "outputs": [
    {
     "name": "stdout",
     "output_type": "stream",
     "text": [
      "Enter a number: 12\n",
      "12 <class 'int'>\n"
     ]
    }
   ],
   "source": [
    "k = int(input(\"Enter a number: \"))\n",
    "if k != str(k):\n",
    "    print(k,type(k))"
   ]
  },
  {
   "cell_type": "code",
   "execution_count": 26,
   "id": "4dc6482d",
   "metadata": {},
   "outputs": [
    {
     "name": "stdout",
     "output_type": "stream",
     "text": [
      "Enter a number: 23\n",
      "Enter a number to check: 23\n",
      "23 and 23 are equal\n"
     ]
    }
   ],
   "source": [
    "j = int(input(\"Enter a number: \"))\n",
    "g = int(input(\"Enter a number to check: \"))\n",
    "if j==g:\n",
    "    print(\"{} and {} are equal\".format(j,g))"
   ]
  },
  {
   "cell_type": "markdown",
   "id": "f6459591",
   "metadata": {},
   "source": [
    "```\n",
    "Input:\n",
    "    5\n",
    "Output:\n",
    "    Given numbers are: 5\n",
    "    given number is 5 and its float value is: 5.0\n",
    "    given number is 5 and its string value is: '5.0'\n",
    "```"
   ]
  },
  {
   "cell_type": "code",
   "execution_count": 29,
   "id": "a01a9806",
   "metadata": {},
   "outputs": [
    {
     "name": "stdout",
     "output_type": "stream",
     "text": [
      "12\n",
      "Givne number are: 12\n",
      "given number is 12 and its float value is: 12.0\n",
      "given number is 12 and its string value is: '12.0'\n"
     ]
    }
   ],
   "source": [
    "k = int(input())\n",
    "print(\"Givne number are: {}\".format(k))\n",
    "print(\"given number is {} and its float value is: {}\".\n",
    "     format(k,float(k)))\n",
    "print(\"given number is {} and its string value is: '{}'\".\n",
    "     format(k,float(k)))"
   ]
  },
  {
   "cell_type": "code",
   "execution_count": null,
   "id": "bc55e6df",
   "metadata": {},
   "outputs": [],
   "source": []
  }
 ],
 "metadata": {
  "kernelspec": {
   "display_name": "Python 3",
   "language": "python",
   "name": "python3"
  },
  "language_info": {
   "codemirror_mode": {
    "name": "ipython",
    "version": 3
   },
   "file_extension": ".py",
   "mimetype": "text/x-python",
   "name": "python",
   "nbconvert_exporter": "python",
   "pygments_lexer": "ipython3",
   "version": "3.7.5"
  }
 },
 "nbformat": 4,
 "nbformat_minor": 5
}
